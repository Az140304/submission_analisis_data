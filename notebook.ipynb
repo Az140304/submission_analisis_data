{
  "cells": [
    {
      "cell_type": "markdown",
      "metadata": {
        "id": "Hyz_jjQkxGxT"
      },
      "source": [
        "# **Projek Akhir Analisis Data**\n",
        "**Nama**  : Azhar Fikri H.\n",
        "\n",
        "**Email**   :  afharyodwiseno@gmail.com\n",
        "\n",
        "**ID Dicoding** : afharyo\n",
        "\n",
        "# Menentukan Pertanyaan Bisnis Atau Analisis\n",
        "\n",
        "* 1. Kota manakah dengan total pembelian terbesar di platform Olist pada tahun 2018 ?\n",
        "* 2. bagaimana tren aktivitas pembelian barang pada tahun 2017 dari bulan ke bulan ?\n",
        "\n",
        "\n"
      ]
    },
    {
      "cell_type": "markdown",
      "metadata": {
        "id": "67pJKY_Z0Fp0"
      },
      "source": [
        "## Import Semua Packages/Library yang Digunakan"
      ]
    },
    {
      "cell_type": "markdown",
      "metadata": {
        "id": "YmFJubqeB7XR"
      },
      "source": [
        "import library yang akan membantu dalam mengelola data"
      ]
    },
    {
      "cell_type": "code",
      "execution_count": 75,
      "metadata": {
        "colab": {
          "base_uri": "https://localhost:8080/",
          "height": 321
        },
        "id": "-XaEGDYIxFCb",
        "outputId": "605a4dfb-603a-4c92-bfb9-b126fc60e3a7"
      },
      "outputs": [],
      "source": [
        "import numpy as np\n",
        "import pandas as pd\n",
        "import matplotlib.pyplot as plt\n",
        "import datetime as dt"
      ]
    },
    {
      "cell_type": "markdown",
      "metadata": {
        "id": "xlIcsV5XCQlV"
      },
      "source": [
        "## Data Wrangling\n",
        "\n",
        "\n"
      ]
    },
    {
      "cell_type": "markdown",
      "metadata": {
        "id": "eaF30TayDddD"
      },
      "source": [
        "### Gathering Data"
      ]
    },
    {
      "cell_type": "markdown",
      "metadata": {
        "id": "3-J_5nADDrmb"
      },
      "source": [
        "Mengumpulkan dataset yang akan digunakan"
      ]
    },
    {
      "cell_type": "code",
      "execution_count": 76,
      "metadata": {
        "id": "11cP4Nq273T3"
      },
      "outputs": [],
      "source": [
        "customers = pd.read_csv(\"./data/olist_customers_dataset.csv\") # customer dataset\n",
        "orders = pd.read_csv(\"./data/olist_orders_dataset.csv\") # orders dataset\n",
        "orders_payments = pd.read_csv(\"./data/olist_order_payments_dataset.csv\") # order_payments dataset\n"
      ]
    },
    {
      "cell_type": "markdown",
      "metadata": {
        "id": "HPG59rMaErev"
      },
      "source": [
        "Cek dataset customers"
      ]
    },
    {
      "cell_type": "code",
      "execution_count": 77,
      "metadata": {
        "colab": {
          "base_uri": "https://localhost:8080/",
          "height": 261
        },
        "id": "oQCmoGTNDaZx",
        "outputId": "323677fd-507b-4fa5-b67d-124baf06ab0c"
      },
      "outputs": [
        {
          "data": {
            "text/html": [
              "<div>\n",
              "<style scoped>\n",
              "    .dataframe tbody tr th:only-of-type {\n",
              "        vertical-align: middle;\n",
              "    }\n",
              "\n",
              "    .dataframe tbody tr th {\n",
              "        vertical-align: top;\n",
              "    }\n",
              "\n",
              "    .dataframe thead th {\n",
              "        text-align: right;\n",
              "    }\n",
              "</style>\n",
              "<table border=\"1\" class=\"dataframe\">\n",
              "  <thead>\n",
              "    <tr style=\"text-align: right;\">\n",
              "      <th></th>\n",
              "      <th>customer_id</th>\n",
              "      <th>customer_unique_id</th>\n",
              "      <th>customer_zip_code_prefix</th>\n",
              "      <th>customer_city</th>\n",
              "      <th>customer_state</th>\n",
              "    </tr>\n",
              "  </thead>\n",
              "  <tbody>\n",
              "    <tr>\n",
              "      <th>0</th>\n",
              "      <td>06b8999e2fba1a1fbc88172c00ba8bc7</td>\n",
              "      <td>861eff4711a542e4b93843c6dd7febb0</td>\n",
              "      <td>14409</td>\n",
              "      <td>franca</td>\n",
              "      <td>SP</td>\n",
              "    </tr>\n",
              "    <tr>\n",
              "      <th>1</th>\n",
              "      <td>18955e83d337fd6b2def6b18a428ac77</td>\n",
              "      <td>290c77bc529b7ac935b93aa66c333dc3</td>\n",
              "      <td>9790</td>\n",
              "      <td>sao bernardo do campo</td>\n",
              "      <td>SP</td>\n",
              "    </tr>\n",
              "    <tr>\n",
              "      <th>2</th>\n",
              "      <td>4e7b3e00288586ebd08712fdd0374a03</td>\n",
              "      <td>060e732b5b29e8181a18229c7b0b2b5e</td>\n",
              "      <td>1151</td>\n",
              "      <td>sao paulo</td>\n",
              "      <td>SP</td>\n",
              "    </tr>\n",
              "    <tr>\n",
              "      <th>3</th>\n",
              "      <td>b2b6027bc5c5109e529d4dc6358b12c3</td>\n",
              "      <td>259dac757896d24d7702b9acbbff3f3c</td>\n",
              "      <td>8775</td>\n",
              "      <td>mogi das cruzes</td>\n",
              "      <td>SP</td>\n",
              "    </tr>\n",
              "    <tr>\n",
              "      <th>4</th>\n",
              "      <td>4f2d8ab171c80ec8364f7c12e35b23ad</td>\n",
              "      <td>345ecd01c38d18a9036ed96c73b8d066</td>\n",
              "      <td>13056</td>\n",
              "      <td>campinas</td>\n",
              "      <td>SP</td>\n",
              "    </tr>\n",
              "  </tbody>\n",
              "</table>\n",
              "</div>"
            ],
            "text/plain": [
              "                        customer_id                customer_unique_id  \\\n",
              "0  06b8999e2fba1a1fbc88172c00ba8bc7  861eff4711a542e4b93843c6dd7febb0   \n",
              "1  18955e83d337fd6b2def6b18a428ac77  290c77bc529b7ac935b93aa66c333dc3   \n",
              "2  4e7b3e00288586ebd08712fdd0374a03  060e732b5b29e8181a18229c7b0b2b5e   \n",
              "3  b2b6027bc5c5109e529d4dc6358b12c3  259dac757896d24d7702b9acbbff3f3c   \n",
              "4  4f2d8ab171c80ec8364f7c12e35b23ad  345ecd01c38d18a9036ed96c73b8d066   \n",
              "\n",
              "   customer_zip_code_prefix          customer_city customer_state  \n",
              "0                     14409                 franca             SP  \n",
              "1                      9790  sao bernardo do campo             SP  \n",
              "2                      1151              sao paulo             SP  \n",
              "3                      8775        mogi das cruzes             SP  \n",
              "4                     13056               campinas             SP  "
            ]
          },
          "execution_count": 77,
          "metadata": {},
          "output_type": "execute_result"
        }
      ],
      "source": [
        "customers.head()"
      ]
    },
    {
      "cell_type": "markdown",
      "metadata": {
        "id": "a6T4mSfiE6u3"
      },
      "source": [
        "Cek dataset orders"
      ]
    },
    {
      "cell_type": "code",
      "execution_count": 78,
      "metadata": {
        "colab": {
          "base_uri": "https://localhost:8080/",
          "height": 226
        },
        "collapsed": true,
        "id": "GRMeUPzHDaS-",
        "outputId": "fd17520f-87b9-4568-e1fc-94a4c7528512"
      },
      "outputs": [
        {
          "data": {
            "text/html": [
              "<div>\n",
              "<style scoped>\n",
              "    .dataframe tbody tr th:only-of-type {\n",
              "        vertical-align: middle;\n",
              "    }\n",
              "\n",
              "    .dataframe tbody tr th {\n",
              "        vertical-align: top;\n",
              "    }\n",
              "\n",
              "    .dataframe thead th {\n",
              "        text-align: right;\n",
              "    }\n",
              "</style>\n",
              "<table border=\"1\" class=\"dataframe\">\n",
              "  <thead>\n",
              "    <tr style=\"text-align: right;\">\n",
              "      <th></th>\n",
              "      <th>order_id</th>\n",
              "      <th>customer_id</th>\n",
              "      <th>order_status</th>\n",
              "      <th>order_purchase_timestamp</th>\n",
              "      <th>order_approved_at</th>\n",
              "      <th>order_delivered_carrier_date</th>\n",
              "      <th>order_delivered_customer_date</th>\n",
              "      <th>order_estimated_delivery_date</th>\n",
              "    </tr>\n",
              "  </thead>\n",
              "  <tbody>\n",
              "    <tr>\n",
              "      <th>0</th>\n",
              "      <td>cd3b8574c82b42fc8129f6d502690c3e</td>\n",
              "      <td>7812fcebfc5e8065d31e1bb5f0017dae</td>\n",
              "      <td>delivered</td>\n",
              "      <td>10/3/2016 22:31</td>\n",
              "      <td>10/4/2016 10:19</td>\n",
              "      <td>10/8/2016 10:34</td>\n",
              "      <td>10/14/2016 16:08</td>\n",
              "      <td>11/23/2016 0:00</td>\n",
              "    </tr>\n",
              "    <tr>\n",
              "      <th>1</th>\n",
              "      <td>36989eb07a0de2d3d3129eea35553875</td>\n",
              "      <td>aadd27185177fc7ac9b364898ac09343</td>\n",
              "      <td>delivered</td>\n",
              "      <td>10/4/2016 13:11</td>\n",
              "      <td>10/4/2016 13:46</td>\n",
              "      <td>10/8/2016 13:46</td>\n",
              "      <td>10/11/2016 13:46</td>\n",
              "      <td>12/6/2016 0:00</td>\n",
              "    </tr>\n",
              "    <tr>\n",
              "      <th>2</th>\n",
              "      <td>7033745709b7cf1bac7d2533663592de</td>\n",
              "      <td>7f0ca17bb33b230b47459437cf0682c7</td>\n",
              "      <td>delivered</td>\n",
              "      <td>10/4/2016 14:13</td>\n",
              "      <td>10/4/2016 14:46</td>\n",
              "      <td>10/8/2016 14:46</td>\n",
              "      <td>10/11/2016 14:46</td>\n",
              "      <td>11/30/2016 0:00</td>\n",
              "    </tr>\n",
              "    <tr>\n",
              "      <th>3</th>\n",
              "      <td>fbbc9a4fa88f1ccd651790df665b3e57</td>\n",
              "      <td>eba930c3950c6964961c7c72f7f6a461</td>\n",
              "      <td>delivered</td>\n",
              "      <td>10/4/2016 13:30</td>\n",
              "      <td>10/5/2016 2:45</td>\n",
              "      <td>10/9/2016 2:45</td>\n",
              "      <td>10/28/2016 17:05</td>\n",
              "      <td>12/2/2016 0:00</td>\n",
              "    </tr>\n",
              "    <tr>\n",
              "      <th>4</th>\n",
              "      <td>bcbc0973414b1dd97555e6f8e9713cfa</td>\n",
              "      <td>3f6f000d5b0a959f38481fad4ab7cac2</td>\n",
              "      <td>delivered</td>\n",
              "      <td>10/4/2016 23:59</td>\n",
              "      <td>10/5/2016 3:45</td>\n",
              "      <td>10/9/2016 3:45</td>\n",
              "      <td>10/16/2016 10:41</td>\n",
              "      <td>11/28/2016 0:00</td>\n",
              "    </tr>\n",
              "  </tbody>\n",
              "</table>\n",
              "</div>"
            ],
            "text/plain": [
              "                           order_id                       customer_id  \\\n",
              "0  cd3b8574c82b42fc8129f6d502690c3e  7812fcebfc5e8065d31e1bb5f0017dae   \n",
              "1  36989eb07a0de2d3d3129eea35553875  aadd27185177fc7ac9b364898ac09343   \n",
              "2  7033745709b7cf1bac7d2533663592de  7f0ca17bb33b230b47459437cf0682c7   \n",
              "3  fbbc9a4fa88f1ccd651790df665b3e57  eba930c3950c6964961c7c72f7f6a461   \n",
              "4  bcbc0973414b1dd97555e6f8e9713cfa  3f6f000d5b0a959f38481fad4ab7cac2   \n",
              "\n",
              "  order_status order_purchase_timestamp order_approved_at  \\\n",
              "0    delivered          10/3/2016 22:31   10/4/2016 10:19   \n",
              "1    delivered          10/4/2016 13:11   10/4/2016 13:46   \n",
              "2    delivered          10/4/2016 14:13   10/4/2016 14:46   \n",
              "3    delivered          10/4/2016 13:30    10/5/2016 2:45   \n",
              "4    delivered          10/4/2016 23:59    10/5/2016 3:45   \n",
              "\n",
              "  order_delivered_carrier_date order_delivered_customer_date  \\\n",
              "0              10/8/2016 10:34              10/14/2016 16:08   \n",
              "1              10/8/2016 13:46              10/11/2016 13:46   \n",
              "2              10/8/2016 14:46              10/11/2016 14:46   \n",
              "3               10/9/2016 2:45              10/28/2016 17:05   \n",
              "4               10/9/2016 3:45              10/16/2016 10:41   \n",
              "\n",
              "  order_estimated_delivery_date  \n",
              "0               11/23/2016 0:00  \n",
              "1                12/6/2016 0:00  \n",
              "2               11/30/2016 0:00  \n",
              "3                12/2/2016 0:00  \n",
              "4               11/28/2016 0:00  "
            ]
          },
          "execution_count": 78,
          "metadata": {},
          "output_type": "execute_result"
        }
      ],
      "source": [
        "orders.head()"
      ]
    },
    {
      "cell_type": "markdown",
      "metadata": {
        "id": "jTs1B8zwFMKC"
      },
      "source": [
        "Cek dataset order payments"
      ]
    },
    {
      "cell_type": "code",
      "execution_count": 79,
      "metadata": {
        "colab": {
          "base_uri": "https://localhost:8080/",
          "height": 206
        },
        "id": "tC0nnlZ8DaID",
        "outputId": "a54caff4-761a-4539-a65f-82913ada51a9"
      },
      "outputs": [
        {
          "data": {
            "text/html": [
              "<div>\n",
              "<style scoped>\n",
              "    .dataframe tbody tr th:only-of-type {\n",
              "        vertical-align: middle;\n",
              "    }\n",
              "\n",
              "    .dataframe tbody tr th {\n",
              "        vertical-align: top;\n",
              "    }\n",
              "\n",
              "    .dataframe thead th {\n",
              "        text-align: right;\n",
              "    }\n",
              "</style>\n",
              "<table border=\"1\" class=\"dataframe\">\n",
              "  <thead>\n",
              "    <tr style=\"text-align: right;\">\n",
              "      <th></th>\n",
              "      <th>order_id</th>\n",
              "      <th>payment_sequential</th>\n",
              "      <th>payment_type</th>\n",
              "      <th>payment_installments</th>\n",
              "      <th>payment_value</th>\n",
              "    </tr>\n",
              "  </thead>\n",
              "  <tbody>\n",
              "    <tr>\n",
              "      <th>0</th>\n",
              "      <td>03caa2c082116e1d31e67e9ae3700499</td>\n",
              "      <td>1</td>\n",
              "      <td>credit_card</td>\n",
              "      <td>1</td>\n",
              "      <td>13664.08</td>\n",
              "    </tr>\n",
              "    <tr>\n",
              "      <th>1</th>\n",
              "      <td>736e1922ae60d0d6a89247b851902527</td>\n",
              "      <td>1</td>\n",
              "      <td>boleto</td>\n",
              "      <td>1</td>\n",
              "      <td>7274.88</td>\n",
              "    </tr>\n",
              "    <tr>\n",
              "      <th>2</th>\n",
              "      <td>0812eb902a67711a1cb742b3cdaa65ae</td>\n",
              "      <td>1</td>\n",
              "      <td>credit_card</td>\n",
              "      <td>8</td>\n",
              "      <td>6929.31</td>\n",
              "    </tr>\n",
              "    <tr>\n",
              "      <th>3</th>\n",
              "      <td>fefacc66af859508bf1a7934eab1e97f</td>\n",
              "      <td>1</td>\n",
              "      <td>boleto</td>\n",
              "      <td>1</td>\n",
              "      <td>6922.21</td>\n",
              "    </tr>\n",
              "    <tr>\n",
              "      <th>4</th>\n",
              "      <td>f5136e38d1a14a4dbd87dff67da82701</td>\n",
              "      <td>1</td>\n",
              "      <td>boleto</td>\n",
              "      <td>1</td>\n",
              "      <td>6726.66</td>\n",
              "    </tr>\n",
              "  </tbody>\n",
              "</table>\n",
              "</div>"
            ],
            "text/plain": [
              "                           order_id  payment_sequential payment_type  \\\n",
              "0  03caa2c082116e1d31e67e9ae3700499                   1  credit_card   \n",
              "1  736e1922ae60d0d6a89247b851902527                   1       boleto   \n",
              "2  0812eb902a67711a1cb742b3cdaa65ae                   1  credit_card   \n",
              "3  fefacc66af859508bf1a7934eab1e97f                   1       boleto   \n",
              "4  f5136e38d1a14a4dbd87dff67da82701                   1       boleto   \n",
              "\n",
              "   payment_installments  payment_value  \n",
              "0                     1       13664.08  \n",
              "1                     1        7274.88  \n",
              "2                     8        6929.31  \n",
              "3                     1        6922.21  \n",
              "4                     1        6726.66  "
            ]
          },
          "execution_count": 79,
          "metadata": {},
          "output_type": "execute_result"
        }
      ],
      "source": [
        "orders_payments.head()"
      ]
    },
    {
      "cell_type": "markdown",
      "metadata": {
        "id": "ZCwjwrVopAF2"
      },
      "source": [
        "Menggabungkan dataset"
      ]
    },
    {
      "cell_type": "code",
      "execution_count": 80,
      "metadata": {
        "id": "L9ecGRHeQ_6f"
      },
      "outputs": [],
      "source": [
        "df_merge = pd.merge(customers, orders, on='customer_id', how='right')\n",
        "df_merge = pd.merge(df_merge, orders_payments, on='order_id', how='inner')\n"
      ]
    },
    {
      "cell_type": "markdown",
      "metadata": {
        "id": "BWf6pqSawgEO"
      },
      "source": [
        "check dataset df_merge"
      ]
    },
    {
      "cell_type": "code",
      "execution_count": 81,
      "metadata": {
        "colab": {
          "base_uri": "https://localhost:8080/",
          "height": 226
        },
        "id": "2b2kRtUNwoit",
        "outputId": "e3ddeea1-58d6-41ed-ece7-e61e9616641e"
      },
      "outputs": [
        {
          "data": {
            "text/html": [
              "<div>\n",
              "<style scoped>\n",
              "    .dataframe tbody tr th:only-of-type {\n",
              "        vertical-align: middle;\n",
              "    }\n",
              "\n",
              "    .dataframe tbody tr th {\n",
              "        vertical-align: top;\n",
              "    }\n",
              "\n",
              "    .dataframe thead th {\n",
              "        text-align: right;\n",
              "    }\n",
              "</style>\n",
              "<table border=\"1\" class=\"dataframe\">\n",
              "  <thead>\n",
              "    <tr style=\"text-align: right;\">\n",
              "      <th></th>\n",
              "      <th>customer_id</th>\n",
              "      <th>customer_unique_id</th>\n",
              "      <th>customer_zip_code_prefix</th>\n",
              "      <th>customer_city</th>\n",
              "      <th>customer_state</th>\n",
              "      <th>order_id</th>\n",
              "      <th>order_status</th>\n",
              "      <th>order_purchase_timestamp</th>\n",
              "      <th>order_approved_at</th>\n",
              "      <th>order_delivered_carrier_date</th>\n",
              "      <th>order_delivered_customer_date</th>\n",
              "      <th>order_estimated_delivery_date</th>\n",
              "      <th>payment_sequential</th>\n",
              "      <th>payment_type</th>\n",
              "      <th>payment_installments</th>\n",
              "      <th>payment_value</th>\n",
              "    </tr>\n",
              "  </thead>\n",
              "  <tbody>\n",
              "    <tr>\n",
              "      <th>0</th>\n",
              "      <td>7812fcebfc5e8065d31e1bb5f0017dae</td>\n",
              "      <td>87776adb449c551e74c13fc34f036105</td>\n",
              "      <td>12030</td>\n",
              "      <td>taubate</td>\n",
              "      <td>SP</td>\n",
              "      <td>cd3b8574c82b42fc8129f6d502690c3e</td>\n",
              "      <td>delivered</td>\n",
              "      <td>10/3/2016 22:31</td>\n",
              "      <td>10/4/2016 10:19</td>\n",
              "      <td>10/8/2016 10:34</td>\n",
              "      <td>10/14/2016 16:08</td>\n",
              "      <td>11/23/2016 0:00</td>\n",
              "      <td>1</td>\n",
              "      <td>credit_card</td>\n",
              "      <td>4</td>\n",
              "      <td>40.95</td>\n",
              "    </tr>\n",
              "    <tr>\n",
              "      <th>1</th>\n",
              "      <td>aadd27185177fc7ac9b364898ac09343</td>\n",
              "      <td>f176923a0a4ab546c7287791ccb82193</td>\n",
              "      <td>78075</td>\n",
              "      <td>cuiaba</td>\n",
              "      <td>MT</td>\n",
              "      <td>36989eb07a0de2d3d3129eea35553875</td>\n",
              "      <td>delivered</td>\n",
              "      <td>10/4/2016 13:11</td>\n",
              "      <td>10/4/2016 13:46</td>\n",
              "      <td>10/8/2016 13:46</td>\n",
              "      <td>10/11/2016 13:46</td>\n",
              "      <td>12/6/2016 0:00</td>\n",
              "      <td>1</td>\n",
              "      <td>credit_card</td>\n",
              "      <td>10</td>\n",
              "      <td>101.44</td>\n",
              "    </tr>\n",
              "    <tr>\n",
              "      <th>2</th>\n",
              "      <td>7f0ca17bb33b230b47459437cf0682c7</td>\n",
              "      <td>1dc848c11c2985635c268ff3dea707eb</td>\n",
              "      <td>21853</td>\n",
              "      <td>rio de janeiro</td>\n",
              "      <td>RJ</td>\n",
              "      <td>7033745709b7cf1bac7d2533663592de</td>\n",
              "      <td>delivered</td>\n",
              "      <td>10/4/2016 14:13</td>\n",
              "      <td>10/4/2016 14:46</td>\n",
              "      <td>10/8/2016 14:46</td>\n",
              "      <td>10/11/2016 14:46</td>\n",
              "      <td>11/30/2016 0:00</td>\n",
              "      <td>1</td>\n",
              "      <td>credit_card</td>\n",
              "      <td>4</td>\n",
              "      <td>111.51</td>\n",
              "    </tr>\n",
              "    <tr>\n",
              "      <th>3</th>\n",
              "      <td>eba930c3950c6964961c7c72f7f6a461</td>\n",
              "      <td>30a38716bb2d04f12bb813aa2f926270</td>\n",
              "      <td>29300</td>\n",
              "      <td>cachoeiro de itapemirim</td>\n",
              "      <td>ES</td>\n",
              "      <td>fbbc9a4fa88f1ccd651790df665b3e57</td>\n",
              "      <td>delivered</td>\n",
              "      <td>10/4/2016 13:30</td>\n",
              "      <td>10/5/2016 2:45</td>\n",
              "      <td>10/9/2016 2:45</td>\n",
              "      <td>10/28/2016 17:05</td>\n",
              "      <td>12/2/2016 0:00</td>\n",
              "      <td>1</td>\n",
              "      <td>boleto</td>\n",
              "      <td>1</td>\n",
              "      <td>119.43</td>\n",
              "    </tr>\n",
              "    <tr>\n",
              "      <th>4</th>\n",
              "      <td>3f6f000d5b0a959f38481fad4ab7cac2</td>\n",
              "      <td>221234182f828fb9f2a4ba9c89874ede</td>\n",
              "      <td>87820</td>\n",
              "      <td>cidade gaucha</td>\n",
              "      <td>PR</td>\n",
              "      <td>bcbc0973414b1dd97555e6f8e9713cfa</td>\n",
              "      <td>delivered</td>\n",
              "      <td>10/4/2016 23:59</td>\n",
              "      <td>10/5/2016 3:45</td>\n",
              "      <td>10/9/2016 3:45</td>\n",
              "      <td>10/16/2016 10:41</td>\n",
              "      <td>11/28/2016 0:00</td>\n",
              "      <td>1</td>\n",
              "      <td>credit_card</td>\n",
              "      <td>3</td>\n",
              "      <td>383.24</td>\n",
              "    </tr>\n",
              "  </tbody>\n",
              "</table>\n",
              "</div>"
            ],
            "text/plain": [
              "                        customer_id                customer_unique_id  \\\n",
              "0  7812fcebfc5e8065d31e1bb5f0017dae  87776adb449c551e74c13fc34f036105   \n",
              "1  aadd27185177fc7ac9b364898ac09343  f176923a0a4ab546c7287791ccb82193   \n",
              "2  7f0ca17bb33b230b47459437cf0682c7  1dc848c11c2985635c268ff3dea707eb   \n",
              "3  eba930c3950c6964961c7c72f7f6a461  30a38716bb2d04f12bb813aa2f926270   \n",
              "4  3f6f000d5b0a959f38481fad4ab7cac2  221234182f828fb9f2a4ba9c89874ede   \n",
              "\n",
              "   customer_zip_code_prefix            customer_city customer_state  \\\n",
              "0                     12030                  taubate             SP   \n",
              "1                     78075                   cuiaba             MT   \n",
              "2                     21853           rio de janeiro             RJ   \n",
              "3                     29300  cachoeiro de itapemirim             ES   \n",
              "4                     87820            cidade gaucha             PR   \n",
              "\n",
              "                           order_id order_status order_purchase_timestamp  \\\n",
              "0  cd3b8574c82b42fc8129f6d502690c3e    delivered          10/3/2016 22:31   \n",
              "1  36989eb07a0de2d3d3129eea35553875    delivered          10/4/2016 13:11   \n",
              "2  7033745709b7cf1bac7d2533663592de    delivered          10/4/2016 14:13   \n",
              "3  fbbc9a4fa88f1ccd651790df665b3e57    delivered          10/4/2016 13:30   \n",
              "4  bcbc0973414b1dd97555e6f8e9713cfa    delivered          10/4/2016 23:59   \n",
              "\n",
              "  order_approved_at order_delivered_carrier_date  \\\n",
              "0   10/4/2016 10:19              10/8/2016 10:34   \n",
              "1   10/4/2016 13:46              10/8/2016 13:46   \n",
              "2   10/4/2016 14:46              10/8/2016 14:46   \n",
              "3    10/5/2016 2:45               10/9/2016 2:45   \n",
              "4    10/5/2016 3:45               10/9/2016 3:45   \n",
              "\n",
              "  order_delivered_customer_date order_estimated_delivery_date  \\\n",
              "0              10/14/2016 16:08               11/23/2016 0:00   \n",
              "1              10/11/2016 13:46                12/6/2016 0:00   \n",
              "2              10/11/2016 14:46               11/30/2016 0:00   \n",
              "3              10/28/2016 17:05                12/2/2016 0:00   \n",
              "4              10/16/2016 10:41               11/28/2016 0:00   \n",
              "\n",
              "   payment_sequential payment_type  payment_installments  payment_value  \n",
              "0                   1  credit_card                     4          40.95  \n",
              "1                   1  credit_card                    10         101.44  \n",
              "2                   1  credit_card                     4         111.51  \n",
              "3                   1       boleto                     1         119.43  \n",
              "4                   1  credit_card                     3         383.24  "
            ]
          },
          "execution_count": 81,
          "metadata": {},
          "output_type": "execute_result"
        }
      ],
      "source": [
        "df_merge.head()"
      ]
    },
    {
      "cell_type": "markdown",
      "metadata": {
        "id": "ulrnv4ZBF-RA"
      },
      "source": [
        "### Assessing Data"
      ]
    },
    {
      "cell_type": "markdown",
      "metadata": {
        "id": "icZTyvauHM1p"
      },
      "source": [
        "#### Missing Value"
      ]
    },
    {
      "cell_type": "code",
      "execution_count": 82,
      "metadata": {
        "colab": {
          "base_uri": "https://localhost:8080/",
          "height": 603
        },
        "id": "xZK1RzaEHCtr",
        "outputId": "3d732e54-34d7-45f4-9df0-cc03e98b1da7"
      },
      "outputs": [
        {
          "name": "stdout",
          "output_type": "stream",
          "text": [
            "Jumlah nilai kosong pada dataset \"df_merge\"\n"
          ]
        },
        {
          "data": {
            "text/plain": [
              "customer_id                         0\n",
              "customer_unique_id                  0\n",
              "customer_zip_code_prefix            0\n",
              "customer_city                       0\n",
              "customer_state                      0\n",
              "order_id                            0\n",
              "order_status                        0\n",
              "order_purchase_timestamp            0\n",
              "order_approved_at                 175\n",
              "order_delivered_carrier_date     1888\n",
              "order_delivered_customer_date    3132\n",
              "order_estimated_delivery_date       0\n",
              "payment_sequential                  0\n",
              "payment_type                        0\n",
              "payment_installments                0\n",
              "payment_value                       0\n",
              "dtype: int64"
            ]
          },
          "execution_count": 82,
          "metadata": {},
          "output_type": "execute_result"
        }
      ],
      "source": [
        "print(\"Jumlah nilai kosong pada dataset \\\"df_merge\\\"\")\n",
        "df_merge.isnull().sum()"
      ]
    },
    {
      "cell_type": "markdown",
      "metadata": {
        "id": "88EhLJFYNm7t"
      },
      "source": [
        "Supaya hasil pengolahan data valid, data tanggal yang kosong akan dihapus"
      ]
    },
    {
      "cell_type": "markdown",
      "metadata": {
        "id": "AfDvOR1pNYhL"
      },
      "source": [
        "#### Duplicate Value"
      ]
    },
    {
      "cell_type": "code",
      "execution_count": 83,
      "metadata": {
        "colab": {
          "base_uri": "https://localhost:8080/"
        },
        "id": "i3CgNAsKNjGk",
        "outputId": "fefbb0b9-71df-46ef-a819-b13f03d1378b"
      },
      "outputs": [
        {
          "name": "stdout",
          "output_type": "stream",
          "text": [
            "Jumlah nilai ganda pada dataset \"df_merge\"\n"
          ]
        },
        {
          "data": {
            "text/plain": [
              "0"
            ]
          },
          "execution_count": 83,
          "metadata": {},
          "output_type": "execute_result"
        }
      ],
      "source": [
        "print(\"Jumlah nilai ganda pada dataset \\\"df_merge\\\"\")\n",
        "df_merge.duplicated().sum()"
      ]
    },
    {
      "cell_type": "markdown",
      "metadata": {
        "id": "ngtqhSmb-gYQ"
      },
      "source": [
        "**Insight**\n",
        "\n",
        "*   Ada banyak data kosong dalam beberapa variable. Sehingga, data tersebut perlu dihapus agar hasil olahan data dikatakan valid\n",
        "* Tidak ditemukan data duplicate\n",
        "\n"
      ]
    },
    {
      "cell_type": "markdown",
      "metadata": {
        "id": "3yC1_PLPqnhx"
      },
      "source": [
        "### Cleaning Data"
      ]
    },
    {
      "cell_type": "markdown",
      "metadata": {
        "id": "dyvD4UCenp_O"
      },
      "source": [
        "Membersihkan nilai kosong pada variable tanggal pada dataset orders"
      ]
    },
    {
      "cell_type": "code",
      "execution_count": 84,
      "metadata": {
        "id": "rONeg4rBqnHi"
      },
      "outputs": [],
      "source": [
        "df_merge.dropna(axis=0, inplace=True)"
      ]
    },
    {
      "cell_type": "code",
      "execution_count": 85,
      "metadata": {
        "colab": {
          "base_uri": "https://localhost:8080/",
          "height": 586
        },
        "id": "EGrkrKLWsKyI",
        "outputId": "154da43e-a623-4b1c-cacb-d75fbdf25031"
      },
      "outputs": [
        {
          "data": {
            "text/plain": [
              "customer_id                      0\n",
              "customer_unique_id               0\n",
              "customer_zip_code_prefix         0\n",
              "customer_city                    0\n",
              "customer_state                   0\n",
              "order_id                         0\n",
              "order_status                     0\n",
              "order_purchase_timestamp         0\n",
              "order_approved_at                0\n",
              "order_delivered_carrier_date     0\n",
              "order_delivered_customer_date    0\n",
              "order_estimated_delivery_date    0\n",
              "payment_sequential               0\n",
              "payment_type                     0\n",
              "payment_installments             0\n",
              "payment_value                    0\n",
              "dtype: int64"
            ]
          },
          "execution_count": 85,
          "metadata": {},
          "output_type": "execute_result"
        }
      ],
      "source": [
        "df_merge.isnull().sum()"
      ]
    },
    {
      "cell_type": "markdown",
      "metadata": {
        "id": "CiZQqg2BBCw-"
      },
      "source": [
        "Membuang variable yang tidak dibutuhkan dalam dataframe"
      ]
    },
    {
      "cell_type": "code",
      "execution_count": 86,
      "metadata": {
        "id": "CGUCAfbSBeVh"
      },
      "outputs": [],
      "source": [
        "df_merge = df_merge.drop(['customer_id','customer_unique_id', 'customer_zip_code_prefix', 'customer_city', 'order_id', 'order_estimated_delivery_date'], axis=1)"
      ]
    },
    {
      "cell_type": "markdown",
      "metadata": {
        "id": "jftGIHc2CRHn"
      },
      "source": [
        "Cek df_merge setelah beberapa variable dibuang"
      ]
    },
    {
      "cell_type": "code",
      "execution_count": 87,
      "metadata": {
        "colab": {
          "base_uri": "https://localhost:8080/",
          "height": 226
        },
        "id": "SPAOWlbFCPIH",
        "outputId": "5496cebf-be60-4b44-8ee0-c617f033679d"
      },
      "outputs": [
        {
          "data": {
            "text/html": [
              "<div>\n",
              "<style scoped>\n",
              "    .dataframe tbody tr th:only-of-type {\n",
              "        vertical-align: middle;\n",
              "    }\n",
              "\n",
              "    .dataframe tbody tr th {\n",
              "        vertical-align: top;\n",
              "    }\n",
              "\n",
              "    .dataframe thead th {\n",
              "        text-align: right;\n",
              "    }\n",
              "</style>\n",
              "<table border=\"1\" class=\"dataframe\">\n",
              "  <thead>\n",
              "    <tr style=\"text-align: right;\">\n",
              "      <th></th>\n",
              "      <th>customer_state</th>\n",
              "      <th>order_status</th>\n",
              "      <th>order_purchase_timestamp</th>\n",
              "      <th>order_approved_at</th>\n",
              "      <th>order_delivered_carrier_date</th>\n",
              "      <th>order_delivered_customer_date</th>\n",
              "      <th>payment_sequential</th>\n",
              "      <th>payment_type</th>\n",
              "      <th>payment_installments</th>\n",
              "      <th>payment_value</th>\n",
              "    </tr>\n",
              "  </thead>\n",
              "  <tbody>\n",
              "    <tr>\n",
              "      <th>0</th>\n",
              "      <td>SP</td>\n",
              "      <td>delivered</td>\n",
              "      <td>10/3/2016 22:31</td>\n",
              "      <td>10/4/2016 10:19</td>\n",
              "      <td>10/8/2016 10:34</td>\n",
              "      <td>10/14/2016 16:08</td>\n",
              "      <td>1</td>\n",
              "      <td>credit_card</td>\n",
              "      <td>4</td>\n",
              "      <td>40.95</td>\n",
              "    </tr>\n",
              "    <tr>\n",
              "      <th>1</th>\n",
              "      <td>MT</td>\n",
              "      <td>delivered</td>\n",
              "      <td>10/4/2016 13:11</td>\n",
              "      <td>10/4/2016 13:46</td>\n",
              "      <td>10/8/2016 13:46</td>\n",
              "      <td>10/11/2016 13:46</td>\n",
              "      <td>1</td>\n",
              "      <td>credit_card</td>\n",
              "      <td>10</td>\n",
              "      <td>101.44</td>\n",
              "    </tr>\n",
              "    <tr>\n",
              "      <th>2</th>\n",
              "      <td>RJ</td>\n",
              "      <td>delivered</td>\n",
              "      <td>10/4/2016 14:13</td>\n",
              "      <td>10/4/2016 14:46</td>\n",
              "      <td>10/8/2016 14:46</td>\n",
              "      <td>10/11/2016 14:46</td>\n",
              "      <td>1</td>\n",
              "      <td>credit_card</td>\n",
              "      <td>4</td>\n",
              "      <td>111.51</td>\n",
              "    </tr>\n",
              "    <tr>\n",
              "      <th>3</th>\n",
              "      <td>ES</td>\n",
              "      <td>delivered</td>\n",
              "      <td>10/4/2016 13:30</td>\n",
              "      <td>10/5/2016 2:45</td>\n",
              "      <td>10/9/2016 2:45</td>\n",
              "      <td>10/28/2016 17:05</td>\n",
              "      <td>1</td>\n",
              "      <td>boleto</td>\n",
              "      <td>1</td>\n",
              "      <td>119.43</td>\n",
              "    </tr>\n",
              "    <tr>\n",
              "      <th>4</th>\n",
              "      <td>PR</td>\n",
              "      <td>delivered</td>\n",
              "      <td>10/4/2016 23:59</td>\n",
              "      <td>10/5/2016 3:45</td>\n",
              "      <td>10/9/2016 3:45</td>\n",
              "      <td>10/16/2016 10:41</td>\n",
              "      <td>1</td>\n",
              "      <td>credit_card</td>\n",
              "      <td>3</td>\n",
              "      <td>383.24</td>\n",
              "    </tr>\n",
              "  </tbody>\n",
              "</table>\n",
              "</div>"
            ],
            "text/plain": [
              "  customer_state order_status order_purchase_timestamp order_approved_at  \\\n",
              "0             SP    delivered          10/3/2016 22:31   10/4/2016 10:19   \n",
              "1             MT    delivered          10/4/2016 13:11   10/4/2016 13:46   \n",
              "2             RJ    delivered          10/4/2016 14:13   10/4/2016 14:46   \n",
              "3             ES    delivered          10/4/2016 13:30    10/5/2016 2:45   \n",
              "4             PR    delivered          10/4/2016 23:59    10/5/2016 3:45   \n",
              "\n",
              "  order_delivered_carrier_date order_delivered_customer_date  \\\n",
              "0              10/8/2016 10:34              10/14/2016 16:08   \n",
              "1              10/8/2016 13:46              10/11/2016 13:46   \n",
              "2              10/8/2016 14:46              10/11/2016 14:46   \n",
              "3               10/9/2016 2:45              10/28/2016 17:05   \n",
              "4               10/9/2016 3:45              10/16/2016 10:41   \n",
              "\n",
              "   payment_sequential payment_type  payment_installments  payment_value  \n",
              "0                   1  credit_card                     4          40.95  \n",
              "1                   1  credit_card                    10         101.44  \n",
              "2                   1  credit_card                     4         111.51  \n",
              "3                   1       boleto                     1         119.43  \n",
              "4                   1  credit_card                     3         383.24  "
            ]
          },
          "execution_count": 87,
          "metadata": {},
          "output_type": "execute_result"
        }
      ],
      "source": [
        "df_merge.head()"
      ]
    },
    {
      "cell_type": "markdown",
      "metadata": {
        "id": "nxMgaGYWoq5x"
      },
      "source": [
        "Menghilangkan format waktu pada setiap variable dengan nilai tanggal"
      ]
    },
    {
      "cell_type": "code",
      "execution_count": 88,
      "metadata": {
        "id": "xyVuL3kN2c2u"
      },
      "outputs": [],
      "source": [
        "df_merge[\"order_purchase_timestamp\"] = pd.to_datetime(df_merge[\"order_purchase_timestamp\"]).dt.date\n",
        "df_merge[\"order_approved_at\"] = pd.to_datetime(df_merge[\"order_approved_at\"]).dt.date\n",
        "df_merge[\"order_delivered_carrier_date\"] = pd.to_datetime(df_merge[\"order_delivered_carrier_date\"]).dt.date\n",
        "df_merge[\"order_delivered_customer_date\"] = pd.to_datetime(df_merge[\"order_delivered_customer_date\"]).dt.date\n"
      ]
    },
    {
      "cell_type": "markdown",
      "metadata": {
        "id": "kh8anANJFgSJ"
      },
      "source": [
        "Cek perubahan format tanggal"
      ]
    },
    {
      "cell_type": "code",
      "execution_count": 89,
      "metadata": {
        "colab": {
          "base_uri": "https://localhost:8080/",
          "height": 226
        },
        "id": "1siZQvTq95Qd",
        "outputId": "2ac10b8b-c3fd-4312-e012-3ad8847ecd3f"
      },
      "outputs": [
        {
          "data": {
            "text/html": [
              "<div>\n",
              "<style scoped>\n",
              "    .dataframe tbody tr th:only-of-type {\n",
              "        vertical-align: middle;\n",
              "    }\n",
              "\n",
              "    .dataframe tbody tr th {\n",
              "        vertical-align: top;\n",
              "    }\n",
              "\n",
              "    .dataframe thead th {\n",
              "        text-align: right;\n",
              "    }\n",
              "</style>\n",
              "<table border=\"1\" class=\"dataframe\">\n",
              "  <thead>\n",
              "    <tr style=\"text-align: right;\">\n",
              "      <th></th>\n",
              "      <th>customer_state</th>\n",
              "      <th>order_status</th>\n",
              "      <th>order_purchase_timestamp</th>\n",
              "      <th>order_approved_at</th>\n",
              "      <th>order_delivered_carrier_date</th>\n",
              "      <th>order_delivered_customer_date</th>\n",
              "      <th>payment_sequential</th>\n",
              "      <th>payment_type</th>\n",
              "      <th>payment_installments</th>\n",
              "      <th>payment_value</th>\n",
              "    </tr>\n",
              "  </thead>\n",
              "  <tbody>\n",
              "    <tr>\n",
              "      <th>0</th>\n",
              "      <td>SP</td>\n",
              "      <td>delivered</td>\n",
              "      <td>2016-10-03</td>\n",
              "      <td>2016-10-04</td>\n",
              "      <td>2016-10-08</td>\n",
              "      <td>2016-10-14</td>\n",
              "      <td>1</td>\n",
              "      <td>credit_card</td>\n",
              "      <td>4</td>\n",
              "      <td>40.95</td>\n",
              "    </tr>\n",
              "    <tr>\n",
              "      <th>1</th>\n",
              "      <td>MT</td>\n",
              "      <td>delivered</td>\n",
              "      <td>2016-10-04</td>\n",
              "      <td>2016-10-04</td>\n",
              "      <td>2016-10-08</td>\n",
              "      <td>2016-10-11</td>\n",
              "      <td>1</td>\n",
              "      <td>credit_card</td>\n",
              "      <td>10</td>\n",
              "      <td>101.44</td>\n",
              "    </tr>\n",
              "    <tr>\n",
              "      <th>2</th>\n",
              "      <td>RJ</td>\n",
              "      <td>delivered</td>\n",
              "      <td>2016-10-04</td>\n",
              "      <td>2016-10-04</td>\n",
              "      <td>2016-10-08</td>\n",
              "      <td>2016-10-11</td>\n",
              "      <td>1</td>\n",
              "      <td>credit_card</td>\n",
              "      <td>4</td>\n",
              "      <td>111.51</td>\n",
              "    </tr>\n",
              "    <tr>\n",
              "      <th>3</th>\n",
              "      <td>ES</td>\n",
              "      <td>delivered</td>\n",
              "      <td>2016-10-04</td>\n",
              "      <td>2016-10-05</td>\n",
              "      <td>2016-10-09</td>\n",
              "      <td>2016-10-28</td>\n",
              "      <td>1</td>\n",
              "      <td>boleto</td>\n",
              "      <td>1</td>\n",
              "      <td>119.43</td>\n",
              "    </tr>\n",
              "    <tr>\n",
              "      <th>4</th>\n",
              "      <td>PR</td>\n",
              "      <td>delivered</td>\n",
              "      <td>2016-10-04</td>\n",
              "      <td>2016-10-05</td>\n",
              "      <td>2016-10-09</td>\n",
              "      <td>2016-10-16</td>\n",
              "      <td>1</td>\n",
              "      <td>credit_card</td>\n",
              "      <td>3</td>\n",
              "      <td>383.24</td>\n",
              "    </tr>\n",
              "  </tbody>\n",
              "</table>\n",
              "</div>"
            ],
            "text/plain": [
              "  customer_state order_status order_purchase_timestamp order_approved_at  \\\n",
              "0             SP    delivered               2016-10-03        2016-10-04   \n",
              "1             MT    delivered               2016-10-04        2016-10-04   \n",
              "2             RJ    delivered               2016-10-04        2016-10-04   \n",
              "3             ES    delivered               2016-10-04        2016-10-05   \n",
              "4             PR    delivered               2016-10-04        2016-10-05   \n",
              "\n",
              "  order_delivered_carrier_date order_delivered_customer_date  \\\n",
              "0                   2016-10-08                    2016-10-14   \n",
              "1                   2016-10-08                    2016-10-11   \n",
              "2                   2016-10-08                    2016-10-11   \n",
              "3                   2016-10-09                    2016-10-28   \n",
              "4                   2016-10-09                    2016-10-16   \n",
              "\n",
              "   payment_sequential payment_type  payment_installments  payment_value  \n",
              "0                   1  credit_card                     4          40.95  \n",
              "1                   1  credit_card                    10         101.44  \n",
              "2                   1  credit_card                     4         111.51  \n",
              "3                   1       boleto                     1         119.43  \n",
              "4                   1  credit_card                     3         383.24  "
            ]
          },
          "execution_count": 89,
          "metadata": {},
          "output_type": "execute_result"
        }
      ],
      "source": [
        "df_merge.head()"
      ]
    },
    {
      "cell_type": "markdown",
      "metadata": {
        "id": "NV6d8pO49Z2T"
      },
      "source": [
        "Membuat column baru berupa lama pengiriman"
      ]
    },
    {
      "cell_type": "code",
      "execution_count": 90,
      "metadata": {
        "id": "TF05PacvFMS5"
      },
      "outputs": [],
      "source": [
        "df_merge['order_delivered_customer_date'] = pd.to_datetime(df_merge['order_delivered_customer_date'])\n",
        "df_merge['order_delivered_carrier_date'] = pd.to_datetime(df_merge['order_delivered_carrier_date'])\n",
        "\n",
        "df_merge['lama_pengiriman'] = (df_merge['order_delivered_customer_date'] - df_merge['order_delivered_carrier_date']).dt.days\n",
        "df_merge = df_merge[df_merge['lama_pengiriman'] >= 0] # Buang nilai total lama pengiriman yang kurang dari nol"
      ]
    },
    {
      "cell_type": "markdown",
      "metadata": {
        "id": "XLZ6rq7gFoUS"
      },
      "source": [
        "Cek variable baru pada df_merge"
      ]
    },
    {
      "cell_type": "code",
      "execution_count": 91,
      "metadata": {
        "colab": {
          "base_uri": "https://localhost:8080/",
          "height": 383
        },
        "id": "5OWuFkjRFweR",
        "outputId": "c8c01fb5-19be-4d17-92cd-2b8900f3ae1e"
      },
      "outputs": [
        {
          "data": {
            "text/html": [
              "<div>\n",
              "<style scoped>\n",
              "    .dataframe tbody tr th:only-of-type {\n",
              "        vertical-align: middle;\n",
              "    }\n",
              "\n",
              "    .dataframe tbody tr th {\n",
              "        vertical-align: top;\n",
              "    }\n",
              "\n",
              "    .dataframe thead th {\n",
              "        text-align: right;\n",
              "    }\n",
              "</style>\n",
              "<table border=\"1\" class=\"dataframe\">\n",
              "  <thead>\n",
              "    <tr style=\"text-align: right;\">\n",
              "      <th></th>\n",
              "      <th>customer_state</th>\n",
              "      <th>order_status</th>\n",
              "      <th>order_purchase_timestamp</th>\n",
              "      <th>order_approved_at</th>\n",
              "      <th>order_delivered_carrier_date</th>\n",
              "      <th>order_delivered_customer_date</th>\n",
              "      <th>payment_sequential</th>\n",
              "      <th>payment_type</th>\n",
              "      <th>payment_installments</th>\n",
              "      <th>payment_value</th>\n",
              "      <th>lama_pengiriman</th>\n",
              "    </tr>\n",
              "  </thead>\n",
              "  <tbody>\n",
              "    <tr>\n",
              "      <th>101518</th>\n",
              "      <td>SP</td>\n",
              "      <td>delivered</td>\n",
              "      <td>2018-08-24</td>\n",
              "      <td>2018-08-24</td>\n",
              "      <td>2018-08-24</td>\n",
              "      <td>2018-08-27</td>\n",
              "      <td>1</td>\n",
              "      <td>credit_card</td>\n",
              "      <td>1</td>\n",
              "      <td>38.96</td>\n",
              "      <td>3</td>\n",
              "    </tr>\n",
              "    <tr>\n",
              "      <th>55410</th>\n",
              "      <td>MG</td>\n",
              "      <td>delivered</td>\n",
              "      <td>2018-02-05</td>\n",
              "      <td>2018-02-05</td>\n",
              "      <td>2018-02-09</td>\n",
              "      <td>2018-02-28</td>\n",
              "      <td>1</td>\n",
              "      <td>credit_card</td>\n",
              "      <td>6</td>\n",
              "      <td>64.80</td>\n",
              "      <td>19</td>\n",
              "    </tr>\n",
              "    <tr>\n",
              "      <th>39565</th>\n",
              "      <td>SP</td>\n",
              "      <td>delivered</td>\n",
              "      <td>2017-11-26</td>\n",
              "      <td>2017-11-26</td>\n",
              "      <td>2017-11-30</td>\n",
              "      <td>2017-12-05</td>\n",
              "      <td>1</td>\n",
              "      <td>credit_card</td>\n",
              "      <td>1</td>\n",
              "      <td>94.40</td>\n",
              "      <td>5</td>\n",
              "    </tr>\n",
              "    <tr>\n",
              "      <th>26837</th>\n",
              "      <td>SP</td>\n",
              "      <td>delivered</td>\n",
              "      <td>2017-09-20</td>\n",
              "      <td>2017-09-20</td>\n",
              "      <td>2017-09-21</td>\n",
              "      <td>2017-09-22</td>\n",
              "      <td>1</td>\n",
              "      <td>credit_card</td>\n",
              "      <td>8</td>\n",
              "      <td>101.06</td>\n",
              "      <td>1</td>\n",
              "    </tr>\n",
              "    <tr>\n",
              "      <th>36470</th>\n",
              "      <td>TO</td>\n",
              "      <td>delivered</td>\n",
              "      <td>2017-11-22</td>\n",
              "      <td>2017-11-22</td>\n",
              "      <td>2017-11-23</td>\n",
              "      <td>2017-12-04</td>\n",
              "      <td>1</td>\n",
              "      <td>credit_card</td>\n",
              "      <td>7</td>\n",
              "      <td>72.37</td>\n",
              "      <td>11</td>\n",
              "    </tr>\n",
              "    <tr>\n",
              "      <th>38019</th>\n",
              "      <td>SC</td>\n",
              "      <td>delivered</td>\n",
              "      <td>2017-11-28</td>\n",
              "      <td>2017-11-28</td>\n",
              "      <td>2017-11-28</td>\n",
              "      <td>2017-12-11</td>\n",
              "      <td>1</td>\n",
              "      <td>credit_card</td>\n",
              "      <td>5</td>\n",
              "      <td>113.13</td>\n",
              "      <td>13</td>\n",
              "    </tr>\n",
              "    <tr>\n",
              "      <th>96477</th>\n",
              "      <td>SP</td>\n",
              "      <td>delivered</td>\n",
              "      <td>2018-08-04</td>\n",
              "      <td>2018-08-04</td>\n",
              "      <td>2018-08-07</td>\n",
              "      <td>2018-08-13</td>\n",
              "      <td>1</td>\n",
              "      <td>credit_card</td>\n",
              "      <td>8</td>\n",
              "      <td>84.36</td>\n",
              "      <td>6</td>\n",
              "    </tr>\n",
              "    <tr>\n",
              "      <th>14621</th>\n",
              "      <td>RS</td>\n",
              "      <td>delivered</td>\n",
              "      <td>2017-06-24</td>\n",
              "      <td>2017-06-24</td>\n",
              "      <td>2017-06-27</td>\n",
              "      <td>2017-07-08</td>\n",
              "      <td>1</td>\n",
              "      <td>credit_card</td>\n",
              "      <td>3</td>\n",
              "      <td>51.59</td>\n",
              "      <td>11</td>\n",
              "    </tr>\n",
              "    <tr>\n",
              "      <th>88952</th>\n",
              "      <td>SP</td>\n",
              "      <td>delivered</td>\n",
              "      <td>2018-07-02</td>\n",
              "      <td>2018-07-02</td>\n",
              "      <td>2018-07-03</td>\n",
              "      <td>2018-07-04</td>\n",
              "      <td>1</td>\n",
              "      <td>credit_card</td>\n",
              "      <td>10</td>\n",
              "      <td>355.78</td>\n",
              "      <td>1</td>\n",
              "    </tr>\n",
              "    <tr>\n",
              "      <th>18899</th>\n",
              "      <td>SP</td>\n",
              "      <td>delivered</td>\n",
              "      <td>2017-07-28</td>\n",
              "      <td>2017-07-28</td>\n",
              "      <td>2017-07-31</td>\n",
              "      <td>2017-08-04</td>\n",
              "      <td>1</td>\n",
              "      <td>credit_card</td>\n",
              "      <td>9</td>\n",
              "      <td>223.26</td>\n",
              "      <td>4</td>\n",
              "    </tr>\n",
              "  </tbody>\n",
              "</table>\n",
              "</div>"
            ],
            "text/plain": [
              "       customer_state order_status order_purchase_timestamp order_approved_at  \\\n",
              "101518             SP    delivered               2018-08-24        2018-08-24   \n",
              "55410              MG    delivered               2018-02-05        2018-02-05   \n",
              "39565              SP    delivered               2017-11-26        2017-11-26   \n",
              "26837              SP    delivered               2017-09-20        2017-09-20   \n",
              "36470              TO    delivered               2017-11-22        2017-11-22   \n",
              "38019              SC    delivered               2017-11-28        2017-11-28   \n",
              "96477              SP    delivered               2018-08-04        2018-08-04   \n",
              "14621              RS    delivered               2017-06-24        2017-06-24   \n",
              "88952              SP    delivered               2018-07-02        2018-07-02   \n",
              "18899              SP    delivered               2017-07-28        2017-07-28   \n",
              "\n",
              "       order_delivered_carrier_date order_delivered_customer_date  \\\n",
              "101518                   2018-08-24                    2018-08-27   \n",
              "55410                    2018-02-09                    2018-02-28   \n",
              "39565                    2017-11-30                    2017-12-05   \n",
              "26837                    2017-09-21                    2017-09-22   \n",
              "36470                    2017-11-23                    2017-12-04   \n",
              "38019                    2017-11-28                    2017-12-11   \n",
              "96477                    2018-08-07                    2018-08-13   \n",
              "14621                    2017-06-27                    2017-07-08   \n",
              "88952                    2018-07-03                    2018-07-04   \n",
              "18899                    2017-07-31                    2017-08-04   \n",
              "\n",
              "        payment_sequential payment_type  payment_installments  payment_value  \\\n",
              "101518                   1  credit_card                     1          38.96   \n",
              "55410                    1  credit_card                     6          64.80   \n",
              "39565                    1  credit_card                     1          94.40   \n",
              "26837                    1  credit_card                     8         101.06   \n",
              "36470                    1  credit_card                     7          72.37   \n",
              "38019                    1  credit_card                     5         113.13   \n",
              "96477                    1  credit_card                     8          84.36   \n",
              "14621                    1  credit_card                     3          51.59   \n",
              "88952                    1  credit_card                    10         355.78   \n",
              "18899                    1  credit_card                     9         223.26   \n",
              "\n",
              "        lama_pengiriman  \n",
              "101518                3  \n",
              "55410                19  \n",
              "39565                 5  \n",
              "26837                 1  \n",
              "36470                11  \n",
              "38019                13  \n",
              "96477                 6  \n",
              "14621                11  \n",
              "88952                 1  \n",
              "18899                 4  "
            ]
          },
          "execution_count": 91,
          "metadata": {},
          "output_type": "execute_result"
        }
      ],
      "source": [
        "df_merge.sample(10)"
      ]
    },
    {
      "cell_type": "markdown",
      "metadata": {
        "id": "HH_UlZgEnrit"
      },
      "source": [
        "## Exploratory Data Analysis\n"
      ]
    },
    {
      "cell_type": "code",
      "execution_count": 92,
      "metadata": {
        "colab": {
          "base_uri": "https://localhost:8080/",
          "height": 633
        },
        "collapsed": true,
        "id": "ycIABgkJnnZG",
        "outputId": "dce289e6-59dc-4444-d9a1-7c4513a6d771"
      },
      "outputs": [
        {
          "name": "stdout",
          "output_type": "stream",
          "text": [
            "<class 'pandas.core.frame.DataFrame'>\n",
            "Index: 100716 entries, 0 to 101997\n",
            "Data columns (total 11 columns):\n",
            " #   Column                         Non-Null Count   Dtype         \n",
            "---  ------                         --------------   -----         \n",
            " 0   customer_state                 100716 non-null  object        \n",
            " 1   order_status                   100716 non-null  object        \n",
            " 2   order_purchase_timestamp       100716 non-null  object        \n",
            " 3   order_approved_at              100716 non-null  object        \n",
            " 4   order_delivered_carrier_date   100716 non-null  datetime64[ns]\n",
            " 5   order_delivered_customer_date  100716 non-null  datetime64[ns]\n",
            " 6   payment_sequential             100716 non-null  int64         \n",
            " 7   payment_type                   100716 non-null  object        \n",
            " 8   payment_installments           100716 non-null  int64         \n",
            " 9   payment_value                  100716 non-null  float64       \n",
            " 10  lama_pengiriman                100716 non-null  int64         \n",
            "dtypes: datetime64[ns](2), float64(1), int64(3), object(5)\n",
            "memory usage: 9.2+ MB\n"
          ]
        },
        {
          "data": {
            "text/html": [
              "<div>\n",
              "<style scoped>\n",
              "    .dataframe tbody tr th:only-of-type {\n",
              "        vertical-align: middle;\n",
              "    }\n",
              "\n",
              "    .dataframe tbody tr th {\n",
              "        vertical-align: top;\n",
              "    }\n",
              "\n",
              "    .dataframe thead th {\n",
              "        text-align: right;\n",
              "    }\n",
              "</style>\n",
              "<table border=\"1\" class=\"dataframe\">\n",
              "  <thead>\n",
              "    <tr style=\"text-align: right;\">\n",
              "      <th></th>\n",
              "      <th>order_delivered_carrier_date</th>\n",
              "      <th>order_delivered_customer_date</th>\n",
              "      <th>payment_sequential</th>\n",
              "      <th>payment_installments</th>\n",
              "      <th>payment_value</th>\n",
              "      <th>lama_pengiriman</th>\n",
              "    </tr>\n",
              "  </thead>\n",
              "  <tbody>\n",
              "    <tr>\n",
              "      <th>count</th>\n",
              "      <td>100716</td>\n",
              "      <td>100716</td>\n",
              "      <td>100716.000000</td>\n",
              "      <td>100716.000000</td>\n",
              "      <td>100716.000000</td>\n",
              "      <td>100716.000000</td>\n",
              "    </tr>\n",
              "    <tr>\n",
              "      <th>mean</th>\n",
              "      <td>2018-01-03 05:40:11.867032064</td>\n",
              "      <td>2018-01-12 12:49:53.923507712</td>\n",
              "      <td>1.088347</td>\n",
              "      <td>2.851662</td>\n",
              "      <td>153.059853</td>\n",
              "      <td>9.298403</td>\n",
              "    </tr>\n",
              "    <tr>\n",
              "      <th>min</th>\n",
              "      <td>2016-10-08 00:00:00</td>\n",
              "      <td>2016-10-11 00:00:00</td>\n",
              "      <td>1.000000</td>\n",
              "      <td>0.000000</td>\n",
              "      <td>0.000000</td>\n",
              "      <td>0.000000</td>\n",
              "    </tr>\n",
              "    <tr>\n",
              "      <th>25%</th>\n",
              "      <td>2017-09-14 00:00:00</td>\n",
              "      <td>2017-09-22 00:00:00</td>\n",
              "      <td>1.000000</td>\n",
              "      <td>1.000000</td>\n",
              "      <td>56.780000</td>\n",
              "      <td>4.000000</td>\n",
              "    </tr>\n",
              "    <tr>\n",
              "      <th>50%</th>\n",
              "      <td>2018-01-23 00:00:00</td>\n",
              "      <td>2018-02-01 00:00:00</td>\n",
              "      <td>1.000000</td>\n",
              "      <td>1.000000</td>\n",
              "      <td>100.000000</td>\n",
              "      <td>7.000000</td>\n",
              "    </tr>\n",
              "    <tr>\n",
              "      <th>75%</th>\n",
              "      <td>2018-05-08 00:00:00</td>\n",
              "      <td>2018-05-15 00:00:00</td>\n",
              "      <td>1.000000</td>\n",
              "      <td>4.000000</td>\n",
              "      <td>171.270000</td>\n",
              "      <td>12.000000</td>\n",
              "    </tr>\n",
              "    <tr>\n",
              "      <th>max</th>\n",
              "      <td>2018-09-11 00:00:00</td>\n",
              "      <td>2018-10-17 00:00:00</td>\n",
              "      <td>26.000000</td>\n",
              "      <td>24.000000</td>\n",
              "      <td>13664.080000</td>\n",
              "      <td>205.000000</td>\n",
              "    </tr>\n",
              "    <tr>\n",
              "      <th>std</th>\n",
              "      <td>NaN</td>\n",
              "      <td>NaN</td>\n",
              "      <td>0.652757</td>\n",
              "      <td>2.684332</td>\n",
              "      <td>214.485316</td>\n",
              "      <td>8.780258</td>\n",
              "    </tr>\n",
              "  </tbody>\n",
              "</table>\n",
              "</div>"
            ],
            "text/plain": [
              "        order_delivered_carrier_date  order_delivered_customer_date  \\\n",
              "count                         100716                         100716   \n",
              "mean   2018-01-03 05:40:11.867032064  2018-01-12 12:49:53.923507712   \n",
              "min              2016-10-08 00:00:00            2016-10-11 00:00:00   \n",
              "25%              2017-09-14 00:00:00            2017-09-22 00:00:00   \n",
              "50%              2018-01-23 00:00:00            2018-02-01 00:00:00   \n",
              "75%              2018-05-08 00:00:00            2018-05-15 00:00:00   \n",
              "max              2018-09-11 00:00:00            2018-10-17 00:00:00   \n",
              "std                              NaN                            NaN   \n",
              "\n",
              "       payment_sequential  payment_installments  payment_value  \\\n",
              "count       100716.000000         100716.000000  100716.000000   \n",
              "mean             1.088347              2.851662     153.059853   \n",
              "min              1.000000              0.000000       0.000000   \n",
              "25%              1.000000              1.000000      56.780000   \n",
              "50%              1.000000              1.000000     100.000000   \n",
              "75%              1.000000              4.000000     171.270000   \n",
              "max             26.000000             24.000000   13664.080000   \n",
              "std              0.652757              2.684332     214.485316   \n",
              "\n",
              "       lama_pengiriman  \n",
              "count    100716.000000  \n",
              "mean          9.298403  \n",
              "min           0.000000  \n",
              "25%           4.000000  \n",
              "50%           7.000000  \n",
              "75%          12.000000  \n",
              "max         205.000000  \n",
              "std           8.780258  "
            ]
          },
          "execution_count": 92,
          "metadata": {},
          "output_type": "execute_result"
        }
      ],
      "source": [
        "df_merge.info()\n",
        "df_merge.describe()"
      ]
    },
    {
      "cell_type": "markdown",
      "metadata": {
        "id": "vuxAoP1tEPom"
      },
      "source": [
        "#### Pengaruh lama pengiriman terhadap total pembelian"
      ]
    },
    {
      "cell_type": "code",
      "execution_count": 93,
      "metadata": {
        "colab": {
          "base_uri": "https://localhost:8080/",
          "height": 472
        },
        "id": "_wAXSxqiEJ1r",
        "outputId": "45b9e39d-505d-4ad7-9aad-4e90e6da5c62"
      },
      "outputs": [
        {
          "data": {
            "image/png": "[encoded data removed]",
            "text/plain": [
              "<Figure size 640x480 with 1 Axes>"
            ]
          },
          "metadata": {},
          "output_type": "display_data"
        }
      ],
      "source": [
        "\n",
        "total_pesanan = df_merge['customer_state'].value_counts().reset_index()\n",
        "\n",
        "total_pesanan.columns = ['customer_state', 'total_pesanan']\n",
        "\n",
        "mean_delivery_time =df_merge.groupby(by='customer_state').agg(\n",
        "    avg_delivery_time=('lama_pengiriman', 'mean')\n",
        ").reset_index()\n",
        "\n",
        "df3 = total_pesanan.merge(mean_delivery_time, how='inner', on='customer_state')\n",
        "df3\n",
        "\n",
        "plt.scatter(df3['avg_delivery_time'], df3['total_pesanan'])\n",
        "plt.xlabel('Rata-rata Lama Pengiriman')\n",
        "plt.ylabel('Total Pesanan')\n",
        "plt.title('Pengaruh lama pengiriman terhadap total pembelian')\n",
        "plt.show()"
      ]
    },
    {
      "cell_type": "markdown",
      "metadata": {
        "id": "Fbx4ieBHBdM0"
      },
      "source": [
        "#### Sebaran Pembelian per Kota tiap Bulan"
      ]
    },
    {
      "cell_type": "code",
      "execution_count": 94,
      "metadata": {
        "colab": {
          "base_uri": "https://localhost:8080/",
          "height": 300
        },
        "id": "wbclsAoCwUP8",
        "outputId": "05b01154-0719-43ad-afc2-96c4e198e0b2"
      },
      "outputs": [
        {
          "data": {
            "text/html": [
              "<div>\n",
              "<style scoped>\n",
              "    .dataframe tbody tr th:only-of-type {\n",
              "        vertical-align: middle;\n",
              "    }\n",
              "\n",
              "    .dataframe tbody tr th {\n",
              "        vertical-align: top;\n",
              "    }\n",
              "\n",
              "    .dataframe thead th {\n",
              "        text-align: right;\n",
              "    }\n",
              "</style>\n",
              "<table border=\"1\" class=\"dataframe\">\n",
              "  <thead>\n",
              "    <tr style=\"text-align: right;\">\n",
              "      <th></th>\n",
              "      <th>avg_payment</th>\n",
              "      <th>max_payment</th>\n",
              "    </tr>\n",
              "  </thead>\n",
              "  <tbody>\n",
              "    <tr>\n",
              "      <th>count</th>\n",
              "      <td>27.000000</td>\n",
              "      <td>27.000000</td>\n",
              "    </tr>\n",
              "    <tr>\n",
              "      <th>mean</th>\n",
              "      <td>190.658296</td>\n",
              "      <td>3708.655926</td>\n",
              "    </tr>\n",
              "    <tr>\n",
              "      <th>std</th>\n",
              "      <td>31.095520</td>\n",
              "      <td>2624.137972</td>\n",
              "    </tr>\n",
              "    <tr>\n",
              "      <th>min</th>\n",
              "      <td>136.366312</td>\n",
              "      <td>994.770000</td>\n",
              "    </tr>\n",
              "    <tr>\n",
              "      <th>25%</th>\n",
              "      <td>162.050322</td>\n",
              "      <td>2129.865000</td>\n",
              "    </tr>\n",
              "    <tr>\n",
              "      <th>50%</th>\n",
              "      <td>197.119961</td>\n",
              "      <td>3126.500000</td>\n",
              "    </tr>\n",
              "    <tr>\n",
              "      <th>75%</th>\n",
              "      <td>212.503726</td>\n",
              "      <td>3917.665000</td>\n",
              "    </tr>\n",
              "    <tr>\n",
              "      <th>max</th>\n",
              "      <td>250.153630</td>\n",
              "      <td>13664.080000</td>\n",
              "    </tr>\n",
              "  </tbody>\n",
              "</table>\n",
              "</div>"
            ],
            "text/plain": [
              "       avg_payment   max_payment\n",
              "count    27.000000     27.000000\n",
              "mean    190.658296   3708.655926\n",
              "std      31.095520   2624.137972\n",
              "min     136.366312    994.770000\n",
              "25%     162.050322   2129.865000\n",
              "50%     197.119961   3126.500000\n",
              "75%     212.503726   3917.665000\n",
              "max     250.153630  13664.080000"
            ]
          },
          "execution_count": 94,
          "metadata": {},
          "output_type": "execute_result"
        }
      ],
      "source": [
        "df_merge.groupby(by='customer_state').agg(\n",
        "    avg_payment=('payment_value', 'mean'),\n",
        "    max_payment=('payment_value', 'max'),\n",
        ").reset_index().describe()"
      ]
    },
    {
      "cell_type": "markdown",
      "metadata": {
        "id": "y4tE9OTpgc5z"
      },
      "source": [
        "#### Mencari hubungan antara customer_state dengan lama_pengiriman"
      ]
    },
    {
      "cell_type": "code",
      "execution_count": 95,
      "metadata": {
        "colab": {
          "base_uri": "https://localhost:8080/",
          "height": 547
        },
        "id": "VKjZ7sIHH4hR",
        "outputId": "f2487808-0b20-4c76-c257-9c1aa48fc274"
      },
      "outputs": [
        {
          "data": {
            "image/png": "[encoded data removed]",
            "text/plain": [
              "<Figure size 1000x600 with 1 Axes>"
            ]
          },
          "metadata": {},
          "output_type": "display_data"
        }
      ],
      "source": [
        "df_merge['order_approved_at'] = pd.to_datetime(df_merge['order_approved_at'])\n",
        "\n",
        "# membuat kolom year_month\n",
        "df_merge['year_month'] = df_merge['order_approved_at'].dt.to_period('M')\n",
        "\n",
        "# Group by year-month dan hitung rata rata payment value\n",
        "monthly_payment = df_merge.groupby('year_month')['payment_value'].mean().reset_index()\n",
        "\n",
        "# ubah year_month menjadi string untuk plotting\n",
        "monthly_payment['year_month_str'] = monthly_payment['year_month'].astype(str)\n",
        "\n",
        "# urutkan berdasarkan year_month\n",
        "monthly_payment = monthly_payment.sort_values('year_month')\n",
        "\n",
        "# Plot bar chart menggunakan Matplotlib\n",
        "plt.figure(figsize=(10, 6))\n",
        "plt.bar(monthly_payment['year_month_str'], monthly_payment['payment_value'], color='skyblue')\n",
        "\n",
        "# Menambahkan judul dan label sumbu\n",
        "plt.title('Distribusi Rata-rata Payment Value per Bulan', fontsize=14)\n",
        "plt.xlabel('Tahun-Bulan', fontsize=12)\n",
        "plt.ylabel('Rata-rata Payment Value', fontsize=12)\n",
        "plt.xticks(rotation=45, ha='right')\n",
        "\n",
        "# Menampilkan plot\n",
        "plt.tight_layout()\n",
        "plt.show()"
      ]
    },
    {
      "cell_type": "markdown",
      "metadata": {},
      "source": [
        "Insight :\n",
        "* Pembayaran rata-rata yang lebih tinggi cenderung terjadi pada bulan-bulan terakhir tahun ini (Oktober hingga Desember), mungkin karena belanja liburan.\n",
        "* Pembayaran rata-rata yang lebih rendah lebih umum terjadi pada bulan-bulan awal tahun (Januari hingga Maret), yang mungkin mencerminkan pengurangan pengeluaran pasca-liburan\n",
        "* Pola tersebut tampaknya agak berulang antara tahun 2017 dan 2018, yang menunjukkan tren musiman yang konsisten\n",
        "* Kota dengan pengiriman cepat cenderung memiliki lebih banyak pesanan.\n",
        "* Kota dengan waktu pengiriman yang lebih lama, terutama di atas 20 hari, cenderung memiliki pesanan yang lebih sedikit.\n",
        "* Ada satu kota yang menjadi outlier, dengan pengiriman cepat dan pesanan sangat tinggi, yang dapat menjadi daerah dengan kinerja logistik terbaik.\n",
        "* diketahui bahwa jumlah pembelian yang tersebar dalam kota kota terjadi secara merata"
      ]
    },
    {
      "cell_type": "markdown",
      "metadata": {
        "id": "Ej7vV1qQpIVz"
      },
      "source": [
        "## Export Clean Dataset to CSV"
      ]
    },
    {
      "cell_type": "code",
      "execution_count": 96,
      "metadata": {
        "id": "JDvEHpYXpc_f"
      },
      "outputs": [],
      "source": [
        "#df_merge.to_csv('/content/drive/My Drive/all_data.csv', index=False)"
      ]
    },
    {
      "cell_type": "markdown",
      "metadata": {
        "id": "idDisdNrwCbc"
      },
      "source": [
        "## Visualisasi Data"
      ]
    },
    {
      "cell_type": "markdown",
      "metadata": {
        "id": "HZxOiQ6n8DC2"
      },
      "source": [
        "### Pertanyaan 1: Kota manakah dengan total pembelian terbesar di platform Olist pada tahun 2018 ?"
      ]
    },
    {
      "cell_type": "code",
      "execution_count": 97,
      "metadata": {
        "colab": {
          "base_uri": "https://localhost:8080/",
          "height": 863
        },
        "id": "1swJUdAD8DC2",
        "outputId": "a2315dec-ad52-4de3-de3c-c309145cd24f"
      },
      "outputs": [
        {
          "data": {
            "image/png": "[encoded data removed]",
            "text/plain": [
              "<Figure size 1200x1000 with 1 Axes>"
            ]
          },
          "metadata": {},
          "output_type": "display_data"
        }
      ],
      "source": [
        "df_merge['order_approved_at'] = pd.to_datetime(df_merge['order_approved_at'])\n",
        "\n",
        "df1 = df_merge[df_merge['order_approved_at'].dt.year == 2018]\n",
        "df1 = df1.groupby(['customer_state'])['payment_value'].agg('sum')\n",
        "df1 = df1.sort_values(ascending=True)\n",
        "\n",
        "x = []\n",
        "y = []\n",
        "\n",
        "for state, count in df1.items():\n",
        "  x.append(state)\n",
        "  y.append(count)\n",
        "\n",
        "\n",
        "\n",
        "plt.figure(figsize=(12, 10))\n",
        "\n",
        "\n",
        "plt.barh(x, y, height=0.7)\n",
        "plt.xlabel(\"Total Pembelian\")\n",
        "plt.ylabel(\"Kota\")\n",
        "plt.title(\"Negara dengan Total Pembelian Terbesar pada Tahun 2018\")\n",
        "plt.show()"
      ]
    },
    {
      "cell_type": "markdown",
      "metadata": {
        "id": "DgHI7CiU8DC2"
      },
      "source": [
        "### Pertanyaan 2: Bagaimana tren aktivitas pembelian barang pada tahun 2017 dari bulan ke bulan ?\n"
      ]
    },
    {
      "cell_type": "code",
      "execution_count": 98,
      "metadata": {
        "colab": {
          "base_uri": "https://localhost:8080/",
          "height": 642
        },
        "id": "Go0lCsvO8DC2",
        "outputId": "976e1948-d375-4b2d-a0d6-028f88bb8683"
      },
      "outputs": [
        {
          "name": "stderr",
          "output_type": "stream",
          "text": [
            "C:\\Users\\DELL\\AppData\\Local\\Temp\\ipykernel_20980\\4113672944.py:4: FutureWarning: 'M' is deprecated and will be removed in a future version, please use 'ME' instead.\n",
            "  df2_monthly = df2.resample('M', on='order_approved_at').size()\n"
          ]
        },
        {
          "data": {
            "image/png": "[encoded data removed]",
            "text/plain": [
              "<Figure size 1000x600 with 1 Axes>"
            ]
          },
          "metadata": {},
          "output_type": "display_data"
        }
      ],
      "source": [
        "df_merge['order_approved_at'] = pd.to_datetime(df_merge['order_approved_at'])\n",
        "\n",
        "df2 = df_merge[df_merge['order_approved_at'].dt.year == 2017]\n",
        "df2_monthly = df2.resample('M', on='order_approved_at').size()\n",
        "\n",
        "# Plot the data as a line chart\n",
        "plt.figure(figsize=(10, 6))\n",
        "plt.plot(df2_monthly.index, df2_monthly.values, marker='o', linestyle='-', color='b')\n",
        "plt.title(\"Tren Aktivitas Membeli Barang pada tahun 2017\")\n",
        "plt.xlabel(\"Tanggal\")\n",
        "plt.ylabel(\"Number of Orders\")\n",
        "plt.grid(True)\n",
        "plt.xticks(rotation=45)\n",
        "plt.tight_layout()\n",
        "plt.show()"
      ]
    },
    {
      "cell_type": "markdown",
      "metadata": {},
      "source": [
        "Insight :\n",
        "* Menunjukkan peningkatan konsisten sepanjang tahun.\n",
        "* Puncak aktivitas terjadi menjelang akhir tahun, kemungkinan terkait musim liburan.\n",
        "* Pola ini dapat dimanfaatkan untuk optimasi inventaris dan strategi pemasaran.\n",
        "* Sao Paulo (SP) mendominasi total pembelian pada tahun 2018.\n",
        "* Terdapat kesenjangan signifikan antara SP dan kota-kota lain, menunjukkan potensi ekspansi pasar.\n",
        "* Kota-kota seperti Acre (AC) dan Roraima (RR) memiliki tingkat pembelian terendah, memerlukan strategi pemasaran khusus."
      ]
    },
    {
      "cell_type": "markdown",
      "metadata": {
        "id": "FL8UxIP4glLY"
      },
      "source": [
        "## Kesimpulan"
      ]
    },
    {
      "cell_type": "markdown",
      "metadata": {},
      "source": [
        "* Diketahui bahwa waktu lama pengiriman memiliki pengaruh terkait total pengiriman pada tiap kota. Sebagai fakta,  kota Sao Paulo (SP) yang memiliki total pembelian terbesar pada tahun 2018 di platform Olist mempunyai waktu pengiriman tercepat (+- 5 hari). Sebaliknya, diketahui kesenjangan signifikan antara SP dan kota-kota lain mengungkapkan potensi ekspansi pasar ke wilayah-wilayah dengan pembelian rendah, seperti Acre (AC) dan Roraima (RR). Dari hasil analisis data,  maka dapat disarankan untuk mempertahankan dan meningkatkan layanan di Sao Paulo dan menerapkan faktor kesuksesan pada kota lain. Kemudian,  jaringan logistik perlu dioptimalkan, terutama pada  terutama di kota-kota dengan waktu pengiriman yang lebih lambat.\n",
        "\n",
        "* Berdasarkan hasil analisis data, telah ditemukan pola yaitu adanya puncak aktivitas pembelian di platform Olist pada bulan Liburan (Desember - Januari). Aktivitas pembelian menunjukkan peningkatan konsisten sepanjang tahun 2017, dengan puncak terjadi menjelang akhir tahun, kemungkinan terkait musim liburan. Terlebih lagi, rata-rata jumlah penghasilan dari aktivitas pembelian pelanggan juga mengalami puncak pada bulan Libur. Hal ini dikarenakan pelanggan memiliki waktu yang luang sehingga memiliki kesempatan untuk mencari dan membeli barang. Dari Tren ini dapat dimanfaatkan untuk menerapkan strategi yang optimal pada akhir tahun untuk meningkatkan jumlah aktivitas pembelian pada platform tersebut. Strategi tersebut meliputi memberikan diskon atau promosi pada akhir Tahun sehingga pelanggan lebih tertarik untuk membeli barang dengan harga yang lebih murah. "
      ]
    },
    {
      "cell_type": "markdown",
      "metadata": {},
      "source": [
        "## Export CSV"
      ]
    },
    {
      "cell_type": "code",
      "execution_count": 99,
      "metadata": {},
      "outputs": [],
      "source": [
        "df_merge.to_csv('./data/all_data.csv', index=False)"
      ]
    }
  ],
  "metadata": {
    "colab": {
      "history_visible": true,
      "provenance": [],
      "toc_visible": true
    },
    "kernelspec": {
      "display_name": "Python 3.12.4 ('base')",
      "language": "python",
      "name": "python3"
    },
    "language_info": {
      "codemirror_mode": {
        "name": "ipython",
        "version": 3
      },
      "file_extension": ".py",
      "mimetype": "text/x-python",
      "name": "python",
      "nbconvert_exporter": "python",
      "pygments_lexer": "ipython3",
      "version": "3.12.4"
    },
    "vscode": {
      "interpreter": {
        "hash": "3c06e3e46abf38078fe4dac36a0085ec2b134ebbd73dd076183d243eeca6918f"
      }
    }
  },
  "nbformat": 4,
  "nbformat_minor": 0
}
