{
  "cells": [
    {
      "cell_type": "markdown",
      "metadata": {
        "id": "Hyz_jjQkxGxT"
      },
      "source": [
        "# **Projek Akhir Analisis Data**\n",
        "**Nama**  : Azhar Fikri H.\n",
        "\n",
        "**Email**   :  afharyodwiseno@gmail.com\n",
        "\n",
        "**ID Dicoding** : afharyo\n",
        "\n",
        "# Menentukan Pertanyaan Bisnis Atau Analisis\n",
        "\n",
        "* 1. Kota manakah dengan total pembelian terbesar di platform Olist pada tahun 2018 ?\n",
        "* 2. bagaimana tren aktivitas pembelian barang pada tahun 2017 dari bulan ke bulan ?\n",
        "\n",
        "\n"
      ]
    },
    {
      "cell_type": "markdown",
      "metadata": {
        "id": "67pJKY_Z0Fp0"
      },
      "source": [
        "## Import Semua Packages/Library yang Digunakan"
      ]
    },
    {
      "cell_type": "markdown",
      "metadata": {
        "id": "YmFJubqeB7XR"
      },
      "source": [
        "import library yang akan membantu dalam mengelola data"
      ]
    },
    {
      "cell_type": "code",
      "execution_count": 3,
      "metadata": {
        "id": "-XaEGDYIxFCb"
      },
      "outputs": [],
      "source": [
        "import numpy as np\n",
        "import pandas as pd\n",
        "import matplotlib.pyplot as plt\n",
        "import datetime as dt\n"
      ]
    },
    {
      "cell_type": "markdown",
      "metadata": {
        "id": "xlIcsV5XCQlV"
      },
      "source": [
        "## Data Wrangling\n",
        "\n",
        "\n"
      ]
    },
    {
      "cell_type": "markdown",
      "metadata": {
        "id": "eaF30TayDddD"
      },
      "source": [
        "### Gathering Data"
      ]
    },
    {
      "cell_type": "markdown",
      "metadata": {
        "id": "3-J_5nADDrmb"
      },
      "source": [
        "Mengumpulkan dataset yang akan digunakan"
      ]
    },
    {
      "cell_type": "code",
      "execution_count": 4,
      "metadata": {
        "id": "11cP4Nq273T3"
      },
      "outputs": [],
      "source": [
        "customers = pd.read_csv(\"./data/olist_customers_dataset.csv\") # customer dataset\n",
        "orders = pd.read_csv(\"./data/olist_orders_dataset.csv\") # orders dataset\n",
        "orders_payments = pd.read_csv(\"./data/olist_order_payments_dataset.csv\") # order_payments dataset\n"
      ]
    },
    {
      "cell_type": "markdown",
      "metadata": {
        "id": "HPG59rMaErev"
      },
      "source": [
        "Cek dataset customers"
      ]
    },
    {
      "cell_type": "code",
      "execution_count": 5,
      "metadata": {
        "colab": {
          "base_uri": "https://localhost:8080/",
          "height": 206
        },
        "id": "oQCmoGTNDaZx",
        "outputId": "caf193c9-36cb-4c19-dd59-b225b7795458"
      },
      "outputs": [
        {
          "data": {
            "text/html": [
              "<div>\n",
              "<style scoped>\n",
              "    .dataframe tbody tr th:only-of-type {\n",
              "        vertical-align: middle;\n",
              "    }\n",
              "\n",
              "    .dataframe tbody tr th {\n",
              "        vertical-align: top;\n",
              "    }\n",
              "\n",
              "    .dataframe thead th {\n",
              "        text-align: right;\n",
              "    }\n",
              "</style>\n",
              "<table border=\"1\" class=\"dataframe\">\n",
              "  <thead>\n",
              "    <tr style=\"text-align: right;\">\n",
              "      <th></th>\n",
              "      <th>customer_id</th>\n",
              "      <th>customer_unique_id</th>\n",
              "      <th>customer_zip_code_prefix</th>\n",
              "      <th>customer_city</th>\n",
              "      <th>customer_state</th>\n",
              "    </tr>\n",
              "  </thead>\n",
              "  <tbody>\n",
              "    <tr>\n",
              "      <th>0</th>\n",
              "      <td>06b8999e2fba1a1fbc88172c00ba8bc7</td>\n",
              "      <td>861eff4711a542e4b93843c6dd7febb0</td>\n",
              "      <td>14409</td>\n",
              "      <td>franca</td>\n",
              "      <td>SP</td>\n",
              "    </tr>\n",
              "    <tr>\n",
              "      <th>1</th>\n",
              "      <td>18955e83d337fd6b2def6b18a428ac77</td>\n",
              "      <td>290c77bc529b7ac935b93aa66c333dc3</td>\n",
              "      <td>9790</td>\n",
              "      <td>sao bernardo do campo</td>\n",
              "      <td>SP</td>\n",
              "    </tr>\n",
              "    <tr>\n",
              "      <th>2</th>\n",
              "      <td>4e7b3e00288586ebd08712fdd0374a03</td>\n",
              "      <td>060e732b5b29e8181a18229c7b0b2b5e</td>\n",
              "      <td>1151</td>\n",
              "      <td>sao paulo</td>\n",
              "      <td>SP</td>\n",
              "    </tr>\n",
              "    <tr>\n",
              "      <th>3</th>\n",
              "      <td>b2b6027bc5c5109e529d4dc6358b12c3</td>\n",
              "      <td>259dac757896d24d7702b9acbbff3f3c</td>\n",
              "      <td>8775</td>\n",
              "      <td>mogi das cruzes</td>\n",
              "      <td>SP</td>\n",
              "    </tr>\n",
              "    <tr>\n",
              "      <th>4</th>\n",
              "      <td>4f2d8ab171c80ec8364f7c12e35b23ad</td>\n",
              "      <td>345ecd01c38d18a9036ed96c73b8d066</td>\n",
              "      <td>13056</td>\n",
              "      <td>campinas</td>\n",
              "      <td>SP</td>\n",
              "    </tr>\n",
              "  </tbody>\n",
              "</table>\n",
              "</div>"
            ],
            "text/plain": [
              "                        customer_id                customer_unique_id  \\\n",
              "0  06b8999e2fba1a1fbc88172c00ba8bc7  861eff4711a542e4b93843c6dd7febb0   \n",
              "1  18955e83d337fd6b2def6b18a428ac77  290c77bc529b7ac935b93aa66c333dc3   \n",
              "2  4e7b3e00288586ebd08712fdd0374a03  060e732b5b29e8181a18229c7b0b2b5e   \n",
              "3  b2b6027bc5c5109e529d4dc6358b12c3  259dac757896d24d7702b9acbbff3f3c   \n",
              "4  4f2d8ab171c80ec8364f7c12e35b23ad  345ecd01c38d18a9036ed96c73b8d066   \n",
              "\n",
              "   customer_zip_code_prefix          customer_city customer_state  \n",
              "0                     14409                 franca             SP  \n",
              "1                      9790  sao bernardo do campo             SP  \n",
              "2                      1151              sao paulo             SP  \n",
              "3                      8775        mogi das cruzes             SP  \n",
              "4                     13056               campinas             SP  "
            ]
          },
          "execution_count": 5,
          "metadata": {},
          "output_type": "execute_result"
        }
      ],
      "source": [
        "customers.head()"
      ]
    },
    {
      "cell_type": "markdown",
      "metadata": {
        "id": "a6T4mSfiE6u3"
      },
      "source": [
        "Cek dataset orders"
      ]
    },
    {
      "cell_type": "code",
      "execution_count": 6,
      "metadata": {
        "colab": {
          "base_uri": "https://localhost:8080/",
          "height": 226
        },
        "collapsed": true,
        "id": "GRMeUPzHDaS-",
        "outputId": "2d16418d-172d-4bac-ec59-e6b8160afb8d"
      },
      "outputs": [
        {
          "data": {
            "text/html": [
              "<div>\n",
              "<style scoped>\n",
              "    .dataframe tbody tr th:only-of-type {\n",
              "        vertical-align: middle;\n",
              "    }\n",
              "\n",
              "    .dataframe tbody tr th {\n",
              "        vertical-align: top;\n",
              "    }\n",
              "\n",
              "    .dataframe thead th {\n",
              "        text-align: right;\n",
              "    }\n",
              "</style>\n",
              "<table border=\"1\" class=\"dataframe\">\n",
              "  <thead>\n",
              "    <tr style=\"text-align: right;\">\n",
              "      <th></th>\n",
              "      <th>order_id</th>\n",
              "      <th>customer_id</th>\n",
              "      <th>order_status</th>\n",
              "      <th>order_purchase_timestamp</th>\n",
              "      <th>order_approved_at</th>\n",
              "      <th>order_delivered_carrier_date</th>\n",
              "      <th>order_delivered_customer_date</th>\n",
              "      <th>order_estimated_delivery_date</th>\n",
              "    </tr>\n",
              "  </thead>\n",
              "  <tbody>\n",
              "    <tr>\n",
              "      <th>0</th>\n",
              "      <td>cd3b8574c82b42fc8129f6d502690c3e</td>\n",
              "      <td>7812fcebfc5e8065d31e1bb5f0017dae</td>\n",
              "      <td>delivered</td>\n",
              "      <td>10/3/2016 22:31</td>\n",
              "      <td>10/4/2016 10:19</td>\n",
              "      <td>10/8/2016 10:34</td>\n",
              "      <td>10/14/2016 16:08</td>\n",
              "      <td>11/23/2016 0:00</td>\n",
              "    </tr>\n",
              "    <tr>\n",
              "      <th>1</th>\n",
              "      <td>36989eb07a0de2d3d3129eea35553875</td>\n",
              "      <td>aadd27185177fc7ac9b364898ac09343</td>\n",
              "      <td>delivered</td>\n",
              "      <td>10/4/2016 13:11</td>\n",
              "      <td>10/4/2016 13:46</td>\n",
              "      <td>10/8/2016 13:46</td>\n",
              "      <td>10/11/2016 13:46</td>\n",
              "      <td>12/6/2016 0:00</td>\n",
              "    </tr>\n",
              "    <tr>\n",
              "      <th>2</th>\n",
              "      <td>7033745709b7cf1bac7d2533663592de</td>\n",
              "      <td>7f0ca17bb33b230b47459437cf0682c7</td>\n",
              "      <td>delivered</td>\n",
              "      <td>10/4/2016 14:13</td>\n",
              "      <td>10/4/2016 14:46</td>\n",
              "      <td>10/8/2016 14:46</td>\n",
              "      <td>10/11/2016 14:46</td>\n",
              "      <td>11/30/2016 0:00</td>\n",
              "    </tr>\n",
              "    <tr>\n",
              "      <th>3</th>\n",
              "      <td>fbbc9a4fa88f1ccd651790df665b3e57</td>\n",
              "      <td>eba930c3950c6964961c7c72f7f6a461</td>\n",
              "      <td>delivered</td>\n",
              "      <td>10/4/2016 13:30</td>\n",
              "      <td>10/5/2016 2:45</td>\n",
              "      <td>10/9/2016 2:45</td>\n",
              "      <td>10/28/2016 17:05</td>\n",
              "      <td>12/2/2016 0:00</td>\n",
              "    </tr>\n",
              "    <tr>\n",
              "      <th>4</th>\n",
              "      <td>bcbc0973414b1dd97555e6f8e9713cfa</td>\n",
              "      <td>3f6f000d5b0a959f38481fad4ab7cac2</td>\n",
              "      <td>delivered</td>\n",
              "      <td>10/4/2016 23:59</td>\n",
              "      <td>10/5/2016 3:45</td>\n",
              "      <td>10/9/2016 3:45</td>\n",
              "      <td>10/16/2016 10:41</td>\n",
              "      <td>11/28/2016 0:00</td>\n",
              "    </tr>\n",
              "  </tbody>\n",
              "</table>\n",
              "</div>"
            ],
            "text/plain": [
              "                           order_id                       customer_id  \\\n",
              "0  cd3b8574c82b42fc8129f6d502690c3e  7812fcebfc5e8065d31e1bb5f0017dae   \n",
              "1  36989eb07a0de2d3d3129eea35553875  aadd27185177fc7ac9b364898ac09343   \n",
              "2  7033745709b7cf1bac7d2533663592de  7f0ca17bb33b230b47459437cf0682c7   \n",
              "3  fbbc9a4fa88f1ccd651790df665b3e57  eba930c3950c6964961c7c72f7f6a461   \n",
              "4  bcbc0973414b1dd97555e6f8e9713cfa  3f6f000d5b0a959f38481fad4ab7cac2   \n",
              "\n",
              "  order_status order_purchase_timestamp order_approved_at  \\\n",
              "0    delivered          10/3/2016 22:31   10/4/2016 10:19   \n",
              "1    delivered          10/4/2016 13:11   10/4/2016 13:46   \n",
              "2    delivered          10/4/2016 14:13   10/4/2016 14:46   \n",
              "3    delivered          10/4/2016 13:30    10/5/2016 2:45   \n",
              "4    delivered          10/4/2016 23:59    10/5/2016 3:45   \n",
              "\n",
              "  order_delivered_carrier_date order_delivered_customer_date  \\\n",
              "0              10/8/2016 10:34              10/14/2016 16:08   \n",
              "1              10/8/2016 13:46              10/11/2016 13:46   \n",
              "2              10/8/2016 14:46              10/11/2016 14:46   \n",
              "3               10/9/2016 2:45              10/28/2016 17:05   \n",
              "4               10/9/2016 3:45              10/16/2016 10:41   \n",
              "\n",
              "  order_estimated_delivery_date  \n",
              "0               11/23/2016 0:00  \n",
              "1                12/6/2016 0:00  \n",
              "2               11/30/2016 0:00  \n",
              "3                12/2/2016 0:00  \n",
              "4               11/28/2016 0:00  "
            ]
          },
          "execution_count": 6,
          "metadata": {},
          "output_type": "execute_result"
        }
      ],
      "source": [
        "orders.head()"
      ]
    },
    {
      "cell_type": "markdown",
      "metadata": {
        "id": "jTs1B8zwFMKC"
      },
      "source": [
        "Cek dataset order payments"
      ]
    },
    {
      "cell_type": "code",
      "execution_count": 7,
      "metadata": {
        "colab": {
          "base_uri": "https://localhost:8080/",
          "height": 226
        },
        "id": "tC0nnlZ8DaID",
        "outputId": "940eeff6-35f5-42d1-c7dd-46562321d9c6"
      },
      "outputs": [
        {
          "data": {
            "text/html": [
              "<div>\n",
              "<style scoped>\n",
              "    .dataframe tbody tr th:only-of-type {\n",
              "        vertical-align: middle;\n",
              "    }\n",
              "\n",
              "    .dataframe tbody tr th {\n",
              "        vertical-align: top;\n",
              "    }\n",
              "\n",
              "    .dataframe thead th {\n",
              "        text-align: right;\n",
              "    }\n",
              "</style>\n",
              "<table border=\"1\" class=\"dataframe\">\n",
              "  <thead>\n",
              "    <tr style=\"text-align: right;\">\n",
              "      <th></th>\n",
              "      <th>order_id</th>\n",
              "      <th>payment_sequential</th>\n",
              "      <th>payment_type</th>\n",
              "      <th>payment_installments</th>\n",
              "      <th>payment_value</th>\n",
              "    </tr>\n",
              "  </thead>\n",
              "  <tbody>\n",
              "    <tr>\n",
              "      <th>0</th>\n",
              "      <td>03caa2c082116e1d31e67e9ae3700499</td>\n",
              "      <td>1</td>\n",
              "      <td>credit_card</td>\n",
              "      <td>1</td>\n",
              "      <td>13664.08</td>\n",
              "    </tr>\n",
              "    <tr>\n",
              "      <th>1</th>\n",
              "      <td>736e1922ae60d0d6a89247b851902527</td>\n",
              "      <td>1</td>\n",
              "      <td>boleto</td>\n",
              "      <td>1</td>\n",
              "      <td>7274.88</td>\n",
              "    </tr>\n",
              "    <tr>\n",
              "      <th>2</th>\n",
              "      <td>0812eb902a67711a1cb742b3cdaa65ae</td>\n",
              "      <td>1</td>\n",
              "      <td>credit_card</td>\n",
              "      <td>8</td>\n",
              "      <td>6929.31</td>\n",
              "    </tr>\n",
              "    <tr>\n",
              "      <th>3</th>\n",
              "      <td>fefacc66af859508bf1a7934eab1e97f</td>\n",
              "      <td>1</td>\n",
              "      <td>boleto</td>\n",
              "      <td>1</td>\n",
              "      <td>6922.21</td>\n",
              "    </tr>\n",
              "    <tr>\n",
              "      <th>4</th>\n",
              "      <td>f5136e38d1a14a4dbd87dff67da82701</td>\n",
              "      <td>1</td>\n",
              "      <td>boleto</td>\n",
              "      <td>1</td>\n",
              "      <td>6726.66</td>\n",
              "    </tr>\n",
              "  </tbody>\n",
              "</table>\n",
              "</div>"
            ],
            "text/plain": [
              "                           order_id  payment_sequential payment_type  \\\n",
              "0  03caa2c082116e1d31e67e9ae3700499                   1  credit_card   \n",
              "1  736e1922ae60d0d6a89247b851902527                   1       boleto   \n",
              "2  0812eb902a67711a1cb742b3cdaa65ae                   1  credit_card   \n",
              "3  fefacc66af859508bf1a7934eab1e97f                   1       boleto   \n",
              "4  f5136e38d1a14a4dbd87dff67da82701                   1       boleto   \n",
              "\n",
              "   payment_installments  payment_value  \n",
              "0                     1       13664.08  \n",
              "1                     1        7274.88  \n",
              "2                     8        6929.31  \n",
              "3                     1        6922.21  \n",
              "4                     1        6726.66  "
            ]
          },
          "execution_count": 7,
          "metadata": {},
          "output_type": "execute_result"
        }
      ],
      "source": [
        "orders_payments.head()"
      ]
    },
    {
      "cell_type": "markdown",
      "metadata": {
        "id": "ulrnv4ZBF-RA"
      },
      "source": [
        "### Assessing Data"
      ]
    },
    {
      "cell_type": "markdown",
      "metadata": {
        "id": "icZTyvauHM1p"
      },
      "source": [
        "#### Missing Value"
      ]
    },
    {
      "cell_type": "code",
      "execution_count": 8,
      "metadata": {
        "colab": {
          "base_uri": "https://localhost:8080/",
          "height": 259
        },
        "id": "xZK1RzaEHCtr",
        "outputId": "ff55b4ee-6ca6-43ab-a00d-52935c715177"
      },
      "outputs": [
        {
          "name": "stdout",
          "output_type": "stream",
          "text": [
            "Jumlah nilai kosong pada dataset \"customers\"\n"
          ]
        },
        {
          "data": {
            "text/plain": [
              "customer_id                 0\n",
              "customer_unique_id          0\n",
              "customer_zip_code_prefix    0\n",
              "customer_city               0\n",
              "customer_state              0\n",
              "dtype: int64"
            ]
          },
          "execution_count": 8,
          "metadata": {},
          "output_type": "execute_result"
        }
      ],
      "source": [
        "print(\"Jumlah nilai kosong pada dataset \\\"customers\\\"\")\n",
        "customers.isnull().sum()"
      ]
    },
    {
      "cell_type": "code",
      "execution_count": 9,
      "metadata": {
        "colab": {
          "base_uri": "https://localhost:8080/",
          "height": 353
        },
        "id": "dstWVL7IIk5p",
        "outputId": "cb3f7aeb-cb0e-44fb-c4b8-ae151dcbff45"
      },
      "outputs": [
        {
          "name": "stdout",
          "output_type": "stream",
          "text": [
            "Jumlah nilai kosong pada dataset \"orders\"\n"
          ]
        },
        {
          "data": {
            "text/plain": [
              "order_id                            0\n",
              "customer_id                         0\n",
              "order_status                        0\n",
              "order_purchase_timestamp            0\n",
              "order_approved_at                 160\n",
              "order_delivered_carrier_date     1783\n",
              "order_delivered_customer_date    2965\n",
              "order_estimated_delivery_date       0\n",
              "dtype: int64"
            ]
          },
          "execution_count": 9,
          "metadata": {},
          "output_type": "execute_result"
        }
      ],
      "source": [
        "print(\"Jumlah nilai kosong pada dataset \\\"orders\\\"\")\n",
        "orders.isnull().sum()"
      ]
    },
    {
      "cell_type": "markdown",
      "metadata": {
        "id": "88EhLJFYNm7t"
      },
      "source": [
        "Supaya hasil pengolahan data valid, data tanggal yang kosong akan dihapus"
      ]
    },
    {
      "cell_type": "code",
      "execution_count": 10,
      "metadata": {
        "colab": {
          "base_uri": "https://localhost:8080/",
          "height": 259
        },
        "id": "HzYQaUdzJGK4",
        "outputId": "29b7e1df-628c-4578-f65c-ea741be02be0"
      },
      "outputs": [
        {
          "name": "stdout",
          "output_type": "stream",
          "text": [
            "Jumlah nilai kosong pada dataset \"orders_payments\"\n"
          ]
        },
        {
          "data": {
            "text/plain": [
              "order_id                0\n",
              "payment_sequential      0\n",
              "payment_type            0\n",
              "payment_installments    0\n",
              "payment_value           0\n",
              "dtype: int64"
            ]
          },
          "execution_count": 10,
          "metadata": {},
          "output_type": "execute_result"
        }
      ],
      "source": [
        "print(\"Jumlah nilai kosong pada dataset \\\"orders_payments\\\"\")\n",
        "orders_payments.isnull().sum()"
      ]
    },
    {
      "cell_type": "markdown",
      "metadata": {
        "id": "AfDvOR1pNYhL"
      },
      "source": [
        "#### Duplicate Value"
      ]
    },
    {
      "cell_type": "code",
      "execution_count": 11,
      "metadata": {
        "colab": {
          "base_uri": "https://localhost:8080/"
        },
        "id": "i3CgNAsKNjGk",
        "outputId": "49d7556d-b015-40db-f61c-bcfbb1fdd0a4"
      },
      "outputs": [
        {
          "name": "stdout",
          "output_type": "stream",
          "text": [
            "Jumlah nilai ganda pada dataset \"customers\"\n"
          ]
        },
        {
          "data": {
            "text/plain": [
              "0"
            ]
          },
          "execution_count": 11,
          "metadata": {},
          "output_type": "execute_result"
        }
      ],
      "source": [
        "print(\"Jumlah nilai ganda pada dataset \\\"customers\\\"\")\n",
        "customers.duplicated().sum()"
      ]
    },
    {
      "cell_type": "code",
      "execution_count": 12,
      "metadata": {
        "colab": {
          "base_uri": "https://localhost:8080/"
        },
        "id": "0ZGJcwINmMS-",
        "outputId": "8d397198-d312-45fa-d6d6-7e5227593827"
      },
      "outputs": [
        {
          "name": "stdout",
          "output_type": "stream",
          "text": [
            "Jumlah nilai ganda pada dataset \"orders\"\n"
          ]
        },
        {
          "data": {
            "text/plain": [
              "0"
            ]
          },
          "execution_count": 12,
          "metadata": {},
          "output_type": "execute_result"
        }
      ],
      "source": [
        "print(\"Jumlah nilai ganda pada dataset \\\"orders\\\"\")\n",
        "orders.duplicated().sum()"
      ]
    },
    {
      "cell_type": "code",
      "execution_count": 13,
      "metadata": {
        "colab": {
          "base_uri": "https://localhost:8080/"
        },
        "id": "F-vQKXFcmMmH",
        "outputId": "d2c8c2ec-b870-4662-d5bc-ce3a3a008a14"
      },
      "outputs": [
        {
          "name": "stdout",
          "output_type": "stream",
          "text": [
            "Jumlah nilai ganda pada dataset \"orders_payments\"\n"
          ]
        },
        {
          "data": {
            "text/plain": [
              "0"
            ]
          },
          "execution_count": 13,
          "metadata": {},
          "output_type": "execute_result"
        }
      ],
      "source": [
        "print(\"Jumlah nilai ganda pada dataset \\\"orders_payments\\\"\")\n",
        "orders_payments.duplicated().sum()"
      ]
    },
    {
      "cell_type": "markdown",
      "metadata": {
        "id": "3yC1_PLPqnhx"
      },
      "source": [
        "### Cleaning Data"
      ]
    },
    {
      "cell_type": "markdown",
      "metadata": {
        "id": "dyvD4UCenp_O"
      },
      "source": [
        "Membersihkan nilai kosong pada variable tanggal pada dataset orders"
      ]
    },
    {
      "cell_type": "code",
      "execution_count": 14,
      "metadata": {
        "id": "rONeg4rBqnHi"
      },
      "outputs": [],
      "source": [
        "orders.dropna(axis=0, inplace=True)"
      ]
    },
    {
      "cell_type": "code",
      "execution_count": 15,
      "metadata": {
        "colab": {
          "base_uri": "https://localhost:8080/",
          "height": 335
        },
        "id": "EGrkrKLWsKyI",
        "outputId": "586d4096-c502-4944-a55a-0d1b81800a95"
      },
      "outputs": [
        {
          "data": {
            "text/plain": [
              "order_id                         0\n",
              "customer_id                      0\n",
              "order_status                     0\n",
              "order_purchase_timestamp         0\n",
              "order_approved_at                0\n",
              "order_delivered_carrier_date     0\n",
              "order_delivered_customer_date    0\n",
              "order_estimated_delivery_date    0\n",
              "dtype: int64"
            ]
          },
          "execution_count": 15,
          "metadata": {},
          "output_type": "execute_result"
        }
      ],
      "source": [
        "orders.isnull().sum()"
      ]
    },
    {
      "cell_type": "markdown",
      "metadata": {
        "id": "NpD6zN8aRCva"
      },
      "source": [
        "## Merge Data"
      ]
    },
    {
      "cell_type": "markdown",
      "metadata": {
        "id": "ZCwjwrVopAF2"
      },
      "source": [
        "Menggabungkan dataset"
      ]
    },
    {
      "cell_type": "code",
      "execution_count": 16,
      "metadata": {
        "id": "L9ecGRHeQ_6f"
      },
      "outputs": [],
      "source": [
        "df_merge = pd.merge(customers, orders, on='customer_id', how='right')\n",
        "df_merge = pd.merge(df_merge, orders_payments, on='order_id', how='inner')\n"
      ]
    },
    {
      "cell_type": "markdown",
      "metadata": {
        "id": "Dp_aXmU181ae"
      },
      "source": [
        "Cek nilai kosong df_merge"
      ]
    },
    {
      "cell_type": "code",
      "execution_count": 17,
      "metadata": {
        "colab": {
          "base_uri": "https://localhost:8080/",
          "height": 603
        },
        "collapsed": true,
        "id": "0dVHjxOU80Kc",
        "outputId": "71c25d40-8e77-426e-80b7-a169252ab387"
      },
      "outputs": [
        {
          "name": "stdout",
          "output_type": "stream",
          "text": [
            "Jumlah nilai kosong pada dataset \"df_merge\"\n"
          ]
        },
        {
          "data": {
            "text/plain": [
              "customer_id                      0\n",
              "customer_unique_id               0\n",
              "customer_zip_code_prefix         0\n",
              "customer_city                    0\n",
              "customer_state                   0\n",
              "order_id                         0\n",
              "order_status                     0\n",
              "order_purchase_timestamp         0\n",
              "order_approved_at                0\n",
              "order_delivered_carrier_date     0\n",
              "order_delivered_customer_date    0\n",
              "order_estimated_delivery_date    0\n",
              "payment_sequential               0\n",
              "payment_type                     0\n",
              "payment_installments             0\n",
              "payment_value                    0\n",
              "dtype: int64"
            ]
          },
          "execution_count": 17,
          "metadata": {},
          "output_type": "execute_result"
        }
      ],
      "source": [
        "print(\"Jumlah nilai kosong pada dataset \\\"df_merge\\\"\")\n",
        "df_merge.isnull().sum()"
      ]
    },
    {
      "cell_type": "markdown",
      "metadata": {
        "id": "DoeiOUpc_P0L"
      },
      "source": [
        "Cek nilai duplicate df_merge"
      ]
    },
    {
      "cell_type": "code",
      "execution_count": 18,
      "metadata": {
        "colab": {
          "base_uri": "https://localhost:8080/"
        },
        "collapsed": true,
        "id": "CeTC3EwA_P0L",
        "outputId": "20122858-7934-4763-dba9-80bc213379f6"
      },
      "outputs": [
        {
          "name": "stdout",
          "output_type": "stream",
          "text": [
            "Jumlah nilai ganda pada dataset \"df_merge\"\n"
          ]
        },
        {
          "data": {
            "text/plain": [
              "0"
            ]
          },
          "execution_count": 18,
          "metadata": {},
          "output_type": "execute_result"
        }
      ],
      "source": [
        "print(\"Jumlah nilai ganda pada dataset \\\"df_merge\\\"\")\n",
        "df_merge.duplicated().sum()"
      ]
    },
    {
      "cell_type": "markdown",
      "metadata": {
        "id": "HH_UlZgEnrit"
      },
      "source": [
        "## Exploratory Data Analysis\n",
        "df_merge.to_csv('/content/drive/My Drive/.csv', index=False)"
      ]
    },
    {
      "cell_type": "code",
      "execution_count": 19,
      "metadata": {
        "colab": {
          "base_uri": "https://localhost:8080/",
          "height": 508
        },
        "collapsed": true,
        "id": "ycIABgkJnnZG",
        "outputId": "1e4be879-6621-48e4-d8aa-23d62fbd85df"
      },
      "outputs": [
        {
          "name": "stdout",
          "output_type": "stream",
          "text": [
            "<class 'pandas.core.frame.DataFrame'>\n",
            "RangeIndex: 99441 entries, 0 to 99440\n",
            "Data columns (total 5 columns):\n",
            " #   Column                    Non-Null Count  Dtype \n",
            "---  ------                    --------------  ----- \n",
            " 0   customer_id               99441 non-null  object\n",
            " 1   customer_unique_id        99441 non-null  object\n",
            " 2   customer_zip_code_prefix  99441 non-null  int64 \n",
            " 3   customer_city             99441 non-null  object\n",
            " 4   customer_state            99441 non-null  object\n",
            "dtypes: int64(1), object(4)\n",
            "memory usage: 3.8+ MB\n"
          ]
        },
        {
          "data": {
            "text/html": [
              "<div>\n",
              "<style scoped>\n",
              "    .dataframe tbody tr th:only-of-type {\n",
              "        vertical-align: middle;\n",
              "    }\n",
              "\n",
              "    .dataframe tbody tr th {\n",
              "        vertical-align: top;\n",
              "    }\n",
              "\n",
              "    .dataframe thead th {\n",
              "        text-align: right;\n",
              "    }\n",
              "</style>\n",
              "<table border=\"1\" class=\"dataframe\">\n",
              "  <thead>\n",
              "    <tr style=\"text-align: right;\">\n",
              "      <th></th>\n",
              "      <th>customer_zip_code_prefix</th>\n",
              "    </tr>\n",
              "  </thead>\n",
              "  <tbody>\n",
              "    <tr>\n",
              "      <th>count</th>\n",
              "      <td>99441.000000</td>\n",
              "    </tr>\n",
              "    <tr>\n",
              "      <th>mean</th>\n",
              "      <td>35137.474583</td>\n",
              "    </tr>\n",
              "    <tr>\n",
              "      <th>std</th>\n",
              "      <td>29797.938996</td>\n",
              "    </tr>\n",
              "    <tr>\n",
              "      <th>min</th>\n",
              "      <td>1003.000000</td>\n",
              "    </tr>\n",
              "    <tr>\n",
              "      <th>25%</th>\n",
              "      <td>11347.000000</td>\n",
              "    </tr>\n",
              "    <tr>\n",
              "      <th>50%</th>\n",
              "      <td>24416.000000</td>\n",
              "    </tr>\n",
              "    <tr>\n",
              "      <th>75%</th>\n",
              "      <td>58900.000000</td>\n",
              "    </tr>\n",
              "    <tr>\n",
              "      <th>max</th>\n",
              "      <td>99990.000000</td>\n",
              "    </tr>\n",
              "  </tbody>\n",
              "</table>\n",
              "</div>"
            ],
            "text/plain": [
              "       customer_zip_code_prefix\n",
              "count              99441.000000\n",
              "mean               35137.474583\n",
              "std                29797.938996\n",
              "min                 1003.000000\n",
              "25%                11347.000000\n",
              "50%                24416.000000\n",
              "75%                58900.000000\n",
              "max                99990.000000"
            ]
          },
          "execution_count": 19,
          "metadata": {},
          "output_type": "execute_result"
        }
      ],
      "source": [
        "customers.info()\n",
        "customers.describe()"
      ]
    },
    {
      "cell_type": "code",
      "execution_count": 20,
      "metadata": {
        "colab": {
          "base_uri": "https://localhost:8080/",
          "height": 455
        },
        "id": "xwLXNNCK1BHp",
        "outputId": "68714e45-cf3d-4305-bc92-0b19635857fe"
      },
      "outputs": [
        {
          "name": "stdout",
          "output_type": "stream",
          "text": [
            "<class 'pandas.core.frame.DataFrame'>\n",
            "Index: 96461 entries, 0 to 97657\n",
            "Data columns (total 8 columns):\n",
            " #   Column                         Non-Null Count  Dtype \n",
            "---  ------                         --------------  ----- \n",
            " 0   order_id                       96461 non-null  object\n",
            " 1   customer_id                    96461 non-null  object\n",
            " 2   order_status                   96461 non-null  object\n",
            " 3   order_purchase_timestamp       96461 non-null  object\n",
            " 4   order_approved_at              96461 non-null  object\n",
            " 5   order_delivered_carrier_date   96461 non-null  object\n",
            " 6   order_delivered_customer_date  96461 non-null  object\n",
            " 7   order_estimated_delivery_date  96461 non-null  object\n",
            "dtypes: object(8)\n",
            "memory usage: 6.6+ MB\n"
          ]
        },
        {
          "data": {
            "text/html": [
              "<div>\n",
              "<style scoped>\n",
              "    .dataframe tbody tr th:only-of-type {\n",
              "        vertical-align: middle;\n",
              "    }\n",
              "\n",
              "    .dataframe tbody tr th {\n",
              "        vertical-align: top;\n",
              "    }\n",
              "\n",
              "    .dataframe thead th {\n",
              "        text-align: right;\n",
              "    }\n",
              "</style>\n",
              "<table border=\"1\" class=\"dataframe\">\n",
              "  <thead>\n",
              "    <tr style=\"text-align: right;\">\n",
              "      <th></th>\n",
              "      <th>order_id</th>\n",
              "      <th>customer_id</th>\n",
              "      <th>order_status</th>\n",
              "      <th>order_purchase_timestamp</th>\n",
              "      <th>order_approved_at</th>\n",
              "      <th>order_delivered_carrier_date</th>\n",
              "      <th>order_delivered_customer_date</th>\n",
              "      <th>order_estimated_delivery_date</th>\n",
              "    </tr>\n",
              "  </thead>\n",
              "  <tbody>\n",
              "    <tr>\n",
              "      <th>count</th>\n",
              "      <td>96461</td>\n",
              "      <td>96461</td>\n",
              "      <td>96461</td>\n",
              "      <td>96461</td>\n",
              "      <td>96461</td>\n",
              "      <td>96461</td>\n",
              "      <td>96461</td>\n",
              "      <td>96461</td>\n",
              "    </tr>\n",
              "    <tr>\n",
              "      <th>unique</th>\n",
              "      <td>96461</td>\n",
              "      <td>96461</td>\n",
              "      <td>2</td>\n",
              "      <td>86341</td>\n",
              "      <td>49451</td>\n",
              "      <td>61005</td>\n",
              "      <td>75637</td>\n",
              "      <td>445</td>\n",
              "    </tr>\n",
              "    <tr>\n",
              "      <th>top</th>\n",
              "      <td>cd3b8574c82b42fc8129f6d502690c3e</td>\n",
              "      <td>7812fcebfc5e8065d31e1bb5f0017dae</td>\n",
              "      <td>delivered</td>\n",
              "      <td>8/2/2018 12:06</td>\n",
              "      <td>1/10/2018 10:32</td>\n",
              "      <td>5/9/2018 15:48</td>\n",
              "      <td>5/21/2018 19:28</td>\n",
              "      <td>12/20/2017 0:00</td>\n",
              "    </tr>\n",
              "    <tr>\n",
              "      <th>freq</th>\n",
              "      <td>1</td>\n",
              "      <td>1</td>\n",
              "      <td>96455</td>\n",
              "      <td>28</td>\n",
              "      <td>108</td>\n",
              "      <td>47</td>\n",
              "      <td>7</td>\n",
              "      <td>507</td>\n",
              "    </tr>\n",
              "  </tbody>\n",
              "</table>\n",
              "</div>"
            ],
            "text/plain": [
              "                                order_id                       customer_id  \\\n",
              "count                              96461                             96461   \n",
              "unique                             96461                             96461   \n",
              "top     cd3b8574c82b42fc8129f6d502690c3e  7812fcebfc5e8065d31e1bb5f0017dae   \n",
              "freq                                   1                                 1   \n",
              "\n",
              "       order_status order_purchase_timestamp order_approved_at  \\\n",
              "count         96461                    96461             96461   \n",
              "unique            2                    86341             49451   \n",
              "top       delivered           8/2/2018 12:06   1/10/2018 10:32   \n",
              "freq          96455                       28               108   \n",
              "\n",
              "       order_delivered_carrier_date order_delivered_customer_date  \\\n",
              "count                         96461                         96461   \n",
              "unique                        61005                         75637   \n",
              "top                  5/9/2018 15:48               5/21/2018 19:28   \n",
              "freq                             47                             7   \n",
              "\n",
              "       order_estimated_delivery_date  \n",
              "count                          96461  \n",
              "unique                           445  \n",
              "top                  12/20/2017 0:00  \n",
              "freq                             507  "
            ]
          },
          "execution_count": 20,
          "metadata": {},
          "output_type": "execute_result"
        }
      ],
      "source": [
        "orders.info()\n",
        "orders.describe()"
      ]
    },
    {
      "cell_type": "code",
      "execution_count": 21,
      "metadata": {
        "colab": {
          "base_uri": "https://localhost:8080/",
          "height": 508
        },
        "id": "_VNEiWue1PqT",
        "outputId": "b0151de1-f798-4954-8849-b6cedd30a82c"
      },
      "outputs": [
        {
          "name": "stdout",
          "output_type": "stream",
          "text": [
            "<class 'pandas.core.frame.DataFrame'>\n",
            "RangeIndex: 103886 entries, 0 to 103885\n",
            "Data columns (total 5 columns):\n",
            " #   Column                Non-Null Count   Dtype  \n",
            "---  ------                --------------   -----  \n",
            " 0   order_id              103886 non-null  object \n",
            " 1   payment_sequential    103886 non-null  int64  \n",
            " 2   payment_type          103886 non-null  object \n",
            " 3   payment_installments  103886 non-null  int64  \n",
            " 4   payment_value         103886 non-null  float64\n",
            "dtypes: float64(1), int64(2), object(2)\n",
            "memory usage: 4.0+ MB\n"
          ]
        },
        {
          "data": {
            "text/html": [
              "<div>\n",
              "<style scoped>\n",
              "    .dataframe tbody tr th:only-of-type {\n",
              "        vertical-align: middle;\n",
              "    }\n",
              "\n",
              "    .dataframe tbody tr th {\n",
              "        vertical-align: top;\n",
              "    }\n",
              "\n",
              "    .dataframe thead th {\n",
              "        text-align: right;\n",
              "    }\n",
              "</style>\n",
              "<table border=\"1\" class=\"dataframe\">\n",
              "  <thead>\n",
              "    <tr style=\"text-align: right;\">\n",
              "      <th></th>\n",
              "      <th>payment_sequential</th>\n",
              "      <th>payment_installments</th>\n",
              "      <th>payment_value</th>\n",
              "    </tr>\n",
              "  </thead>\n",
              "  <tbody>\n",
              "    <tr>\n",
              "      <th>count</th>\n",
              "      <td>103886.000000</td>\n",
              "      <td>103886.000000</td>\n",
              "      <td>103886.000000</td>\n",
              "    </tr>\n",
              "    <tr>\n",
              "      <th>mean</th>\n",
              "      <td>1.092679</td>\n",
              "      <td>2.853349</td>\n",
              "      <td>154.100380</td>\n",
              "    </tr>\n",
              "    <tr>\n",
              "      <th>std</th>\n",
              "      <td>0.706584</td>\n",
              "      <td>2.687051</td>\n",
              "      <td>217.494064</td>\n",
              "    </tr>\n",
              "    <tr>\n",
              "      <th>min</th>\n",
              "      <td>1.000000</td>\n",
              "      <td>0.000000</td>\n",
              "      <td>0.000000</td>\n",
              "    </tr>\n",
              "    <tr>\n",
              "      <th>25%</th>\n",
              "      <td>1.000000</td>\n",
              "      <td>1.000000</td>\n",
              "      <td>56.790000</td>\n",
              "    </tr>\n",
              "    <tr>\n",
              "      <th>50%</th>\n",
              "      <td>1.000000</td>\n",
              "      <td>1.000000</td>\n",
              "      <td>100.000000</td>\n",
              "    </tr>\n",
              "    <tr>\n",
              "      <th>75%</th>\n",
              "      <td>1.000000</td>\n",
              "      <td>4.000000</td>\n",
              "      <td>171.837500</td>\n",
              "    </tr>\n",
              "    <tr>\n",
              "      <th>max</th>\n",
              "      <td>29.000000</td>\n",
              "      <td>24.000000</td>\n",
              "      <td>13664.080000</td>\n",
              "    </tr>\n",
              "  </tbody>\n",
              "</table>\n",
              "</div>"
            ],
            "text/plain": [
              "       payment_sequential  payment_installments  payment_value\n",
              "count       103886.000000         103886.000000  103886.000000\n",
              "mean             1.092679              2.853349     154.100380\n",
              "std              0.706584              2.687051     217.494064\n",
              "min              1.000000              0.000000       0.000000\n",
              "25%              1.000000              1.000000      56.790000\n",
              "50%              1.000000              1.000000     100.000000\n",
              "75%              1.000000              4.000000     171.837500\n",
              "max             29.000000             24.000000   13664.080000"
            ]
          },
          "execution_count": 21,
          "metadata": {},
          "output_type": "execute_result"
        }
      ],
      "source": [
        "orders_payments.info()\n",
        "orders_payments.describe()"
      ]
    },
    {
      "cell_type": "markdown",
      "metadata": {
        "id": "nxMgaGYWoq5x"
      },
      "source": [
        "Menghilangkan format waktu pada setiap variable dengan nilai tanggal"
      ]
    },
    {
      "cell_type": "code",
      "execution_count": 22,
      "metadata": {
        "id": "xyVuL3kN2c2u"
      },
      "outputs": [],
      "source": [
        "df_merge[\"order_purchase_timestamp\"] = pd.to_datetime(df_merge[\"order_purchase_timestamp\"]).dt.date\n",
        "df_merge[\"order_approved_at\"] = pd.to_datetime(df_merge[\"order_approved_at\"]).dt.date\n",
        "df_merge[\"order_delivered_carrier_date\"] = pd.to_datetime(df_merge[\"order_delivered_carrier_date\"]).dt.date\n",
        "df_merge[\"order_delivered_customer_date\"] = pd.to_datetime(df_merge[\"order_delivered_customer_date\"]).dt.date\n",
        "df_merge[\"order_estimated_delivery_date\"] = pd.to_datetime(df_merge[\"order_estimated_delivery_date\"]).dt.date\n"
      ]
    },
    {
      "cell_type": "markdown",
      "metadata": {
        "id": "ojKcQ2jM9kIe"
      },
      "source": [
        "Cek struktur data df_merge"
      ]
    },
    {
      "cell_type": "code",
      "execution_count": 23,
      "metadata": {
        "colab": {
          "base_uri": "https://localhost:8080/",
          "height": 699
        },
        "collapsed": true,
        "id": "2iK0pScb9kIe",
        "outputId": "6cee7ca6-4d3b-48c2-97c5-2ba170589803"
      },
      "outputs": [
        {
          "name": "stdout",
          "output_type": "stream",
          "text": [
            "<class 'pandas.core.frame.DataFrame'>\n",
            "RangeIndex: 100739 entries, 0 to 100738\n",
            "Data columns (total 16 columns):\n",
            " #   Column                         Non-Null Count   Dtype  \n",
            "---  ------                         --------------   -----  \n",
            " 0   customer_id                    100739 non-null  object \n",
            " 1   customer_unique_id             100739 non-null  object \n",
            " 2   customer_zip_code_prefix       100739 non-null  int64  \n",
            " 3   customer_city                  100739 non-null  object \n",
            " 4   customer_state                 100739 non-null  object \n",
            " 5   order_id                       100739 non-null  object \n",
            " 6   order_status                   100739 non-null  object \n",
            " 7   order_purchase_timestamp       100739 non-null  object \n",
            " 8   order_approved_at              100739 non-null  object \n",
            " 9   order_delivered_carrier_date   100739 non-null  object \n",
            " 10  order_delivered_customer_date  100739 non-null  object \n",
            " 11  order_estimated_delivery_date  100739 non-null  object \n",
            " 12  payment_sequential             100739 non-null  int64  \n",
            " 13  payment_type                   100739 non-null  object \n",
            " 14  payment_installments           100739 non-null  int64  \n",
            " 15  payment_value                  100739 non-null  float64\n",
            "dtypes: float64(1), int64(3), object(12)\n",
            "memory usage: 12.3+ MB\n"
          ]
        },
        {
          "data": {
            "text/html": [
              "<div>\n",
              "<style scoped>\n",
              "    .dataframe tbody tr th:only-of-type {\n",
              "        vertical-align: middle;\n",
              "    }\n",
              "\n",
              "    .dataframe tbody tr th {\n",
              "        vertical-align: top;\n",
              "    }\n",
              "\n",
              "    .dataframe thead th {\n",
              "        text-align: right;\n",
              "    }\n",
              "</style>\n",
              "<table border=\"1\" class=\"dataframe\">\n",
              "  <thead>\n",
              "    <tr style=\"text-align: right;\">\n",
              "      <th></th>\n",
              "      <th>customer_zip_code_prefix</th>\n",
              "      <th>payment_sequential</th>\n",
              "      <th>payment_installments</th>\n",
              "      <th>payment_value</th>\n",
              "    </tr>\n",
              "  </thead>\n",
              "  <tbody>\n",
              "    <tr>\n",
              "      <th>count</th>\n",
              "      <td>100739.000000</td>\n",
              "      <td>100739.000000</td>\n",
              "      <td>100739.000000</td>\n",
              "      <td>100739.000000</td>\n",
              "    </tr>\n",
              "    <tr>\n",
              "      <th>mean</th>\n",
              "      <td>35126.620356</td>\n",
              "      <td>1.088387</td>\n",
              "      <td>2.851894</td>\n",
              "      <td>153.065673</td>\n",
              "    </tr>\n",
              "    <tr>\n",
              "      <th>std</th>\n",
              "      <td>29779.959615</td>\n",
              "      <td>0.652783</td>\n",
              "      <td>2.684496</td>\n",
              "      <td>214.465614</td>\n",
              "    </tr>\n",
              "    <tr>\n",
              "      <th>min</th>\n",
              "      <td>1003.000000</td>\n",
              "      <td>1.000000</td>\n",
              "      <td>0.000000</td>\n",
              "      <td>0.000000</td>\n",
              "    </tr>\n",
              "    <tr>\n",
              "      <th>25%</th>\n",
              "      <td>11385.000000</td>\n",
              "      <td>1.000000</td>\n",
              "      <td>1.000000</td>\n",
              "      <td>56.780000</td>\n",
              "    </tr>\n",
              "    <tr>\n",
              "      <th>50%</th>\n",
              "      <td>24421.000000</td>\n",
              "      <td>1.000000</td>\n",
              "      <td>1.000000</td>\n",
              "      <td>100.000000</td>\n",
              "    </tr>\n",
              "    <tr>\n",
              "      <th>75%</th>\n",
              "      <td>58702.000000</td>\n",
              "      <td>1.000000</td>\n",
              "      <td>4.000000</td>\n",
              "      <td>171.290000</td>\n",
              "    </tr>\n",
              "    <tr>\n",
              "      <th>max</th>\n",
              "      <td>99980.000000</td>\n",
              "      <td>26.000000</td>\n",
              "      <td>24.000000</td>\n",
              "      <td>13664.080000</td>\n",
              "    </tr>\n",
              "  </tbody>\n",
              "</table>\n",
              "</div>"
            ],
            "text/plain": [
              "       customer_zip_code_prefix  payment_sequential  payment_installments  \\\n",
              "count             100739.000000       100739.000000         100739.000000   \n",
              "mean               35126.620356            1.088387              2.851894   \n",
              "std                29779.959615            0.652783              2.684496   \n",
              "min                 1003.000000            1.000000              0.000000   \n",
              "25%                11385.000000            1.000000              1.000000   \n",
              "50%                24421.000000            1.000000              1.000000   \n",
              "75%                58702.000000            1.000000              4.000000   \n",
              "max                99980.000000           26.000000             24.000000   \n",
              "\n",
              "       payment_value  \n",
              "count  100739.000000  \n",
              "mean      153.065673  \n",
              "std       214.465614  \n",
              "min         0.000000  \n",
              "25%        56.780000  \n",
              "50%       100.000000  \n",
              "75%       171.290000  \n",
              "max     13664.080000  "
            ]
          },
          "execution_count": 23,
          "metadata": {},
          "output_type": "execute_result"
        }
      ],
      "source": [
        "df_merge.info()\n",
        "df_merge.describe()"
      ]
    },
    {
      "cell_type": "code",
      "execution_count": 24,
      "metadata": {
        "colab": {
          "base_uri": "https://localhost:8080/",
          "height": 906
        },
        "collapsed": true,
        "id": "Oa2Ww2zj3B89",
        "outputId": "0833298d-57ab-4205-e9a3-2711391d257a"
      },
      "outputs": [
        {
          "data": {
            "image/png": "[encoded data removed]",
            "text/plain": [
              "<Figure size 1200x900 with 5 Axes>"
            ]
          },
          "metadata": {},
          "output_type": "display_data"
        }
      ],
      "source": [
        "plt.figure(figsize=(12, 9))\n",
        "\n",
        "plt.subplot(3,2,1)\n",
        "plt.hist(df_merge[\"order_purchase_timestamp\"], bins=30, color='skyblue', edgecolor='black')\n",
        "plt.title('Distribusi order_purchase_timestamp')\n",
        "plt.xlabel('Tanggal')\n",
        "plt.ylabel('Jumlah pembelian')\n",
        "plt.xticks(rotation=45)\n",
        "\n",
        "plt.subplot(3,2,2)\n",
        "plt.hist(df_merge[\"order_approved_at\"], bins=30, color='skyblue', edgecolor='black')\n",
        "plt.title('Distribusi order_approved_at')\n",
        "plt.xlabel('Tanggal')\n",
        "plt.ylabel('Jumlah pembelian')\n",
        "plt.xticks(rotation=45)\n",
        "\n",
        "plt.subplot(3,2,3)\n",
        "plt.hist(df_merge[\"order_delivered_carrier_date\"], bins=30, color='skyblue', edgecolor='black')\n",
        "plt.title('Distribusi order_delivered_carrier_date')\n",
        "plt.xlabel('Tanggal')\n",
        "plt.ylabel('Jumlah pembelian')\n",
        "plt.xticks(rotation=45)\n",
        "\n",
        "plt.subplot(3,2,4)\n",
        "plt.hist(df_merge[\"order_delivered_customer_date\"], bins=30, color='skyblue', edgecolor='black')\n",
        "plt.title('Distribusi order_delivered_customer_date')\n",
        "plt.xlabel('Date')\n",
        "plt.ylabel('Jumlah pembelian')\n",
        "plt.xticks(rotation=45)\n",
        "\n",
        "plt.subplot(3,2,5)\n",
        "plt.hist(df_merge[\"order_estimated_delivery_date\"], bins=30, color='skyblue', edgecolor='black')\n",
        "plt.title('Distribusi order_estimated_delivery_date')\n",
        "plt.xlabel('Date')\n",
        "plt.ylabel('Jumlah pembelian')\n",
        "plt.xticks(rotation=45)\n",
        "\n",
        "plt.tight_layout()\n",
        "plt.show()"
      ]
    },
    {
      "cell_type": "code",
      "execution_count": 25,
      "metadata": {
        "colab": {
          "base_uri": "https://localhost:8080/",
          "height": 314
        },
        "id": "J5qjXIy0XaBZ",
        "outputId": "9ac54d1e-8e16-4175-97fb-f10077066c03"
      },
      "outputs": [
        {
          "data": {
            "image/png": "[encoded data removed]",
            "text/plain": [
              "<Figure size 500x300 with 1 Axes>"
            ]
          },
          "metadata": {},
          "output_type": "display_data"
        }
      ],
      "source": [
        "count_payment_type = df_merge['payment_type'].value_counts().reindex(['boleto', 'credit_card', 'debit_card', 'voucher'], fill_value=0)\n",
        "\n",
        "x = []\n",
        "y = []\n",
        "\n",
        "for payment_type, count in count_payment_type.items():\n",
        "  x.append(payment_type)\n",
        "  y.append(count)\n",
        "\n",
        "plt.figure(figsize=(5, 3))\n",
        "plt.bar(x, y, color = \"blue\")\n",
        "plt.title(\"Jumlah pengguna dengan tipe pembayaran tertentu\")\n",
        "plt.show()\n"
      ]
    },
    {
      "cell_type": "markdown",
      "metadata": {
        "id": "Ej7vV1qQpIVz"
      },
      "source": [
        "## Export Clean Dataset to CSV"
      ]
    },
    {
      "cell_type": "code",
      "execution_count": 26,
      "metadata": {
        "id": "JDvEHpYXpc_f"
      },
      "outputs": [],
      "source": [
        "df_merge.to_csv('./all_data.csv', index=False)"
      ]
    },
    {
      "cell_type": "markdown",
      "metadata": {
        "id": "idDisdNrwCbc"
      },
      "source": [
        "## Visualisasi Data"
      ]
    },
    {
      "cell_type": "markdown",
      "metadata": {
        "id": "HZxOiQ6n8DC2"
      },
      "source": [
        "### Pertanyaan 1: Kota manakah dengan total pembelian terbesar di platform Olist pada tahun 2018 ?"
      ]
    },
    {
      "cell_type": "code",
      "execution_count": 23,
      "metadata": {
        "colab": {
          "base_uri": "https://localhost:8080/",
          "height": 872
        },
        "id": "1swJUdAD8DC2",
        "outputId": "852d8976-9fa8-4445-fed4-672997a32f94"
      },
      "outputs": [
        {
          "data": {
            "image/png": "[encoded data removed]",
            "text/plain": [
              "<Figure size 1200x1000 with 1 Axes>"
            ]
          },
          "metadata": {},
          "output_type": "display_data"
        }
      ],
      "source": [
        "df_merge['order_approved_at'] = pd.to_datetime(df_merge['order_approved_at'])\n",
        "\n",
        "df1 = df_merge[df_merge['order_approved_at'].dt.year == 2018]\n",
        "df1 = df1.groupby(['customer_state'])['payment_value'].agg('sum')\n",
        "df1 = df1.sort_values(ascending=True).head(10)\n",
        "\n",
        "x = []\n",
        "y = []\n",
        "\n",
        "for state, count in df1.items():\n",
        "  x.append(state)\n",
        "  y.append(count)\n",
        "\n",
        "\n",
        "\n",
        "plt.figure(figsize=(12, 10))\n",
        "\n",
        "\n",
        "plt.barh(x, y, height=0.7)\n",
        "plt.xlabel(\"Total Pemebelian\")\n",
        "plt.ylabel(\"Kota\")\n",
        "plt.title(\"Negara dengan Total Pembelian Terbesar pada Tahun 2018\")\n",
        "plt.show()"
      ]
    },
    {
      "cell_type": "markdown",
      "metadata": {
        "id": "DgHI7CiU8DC2"
      },
      "source": [
        "### Pertanyaan 2: Bagaimana tren aktivitas pembelian barang pada tahun 2017 dari bulan ke bulan ?\n"
      ]
    },
    {
      "cell_type": "code",
      "execution_count": 27,
      "metadata": {
        "colab": {
          "base_uri": "https://localhost:8080/",
          "height": 642
        },
        "id": "Go0lCsvO8DC2",
        "outputId": "976e1948-d375-4b2d-a0d6-028f88bb8683"
      },
      "outputs": [
        {
          "name": "stderr",
          "output_type": "stream",
          "text": [
            "C:\\Users\\DELL\\AppData\\Local\\Temp\\ipykernel_23788\\4113672944.py:4: FutureWarning: 'M' is deprecated and will be removed in a future version, please use 'ME' instead.\n",
            "  df2_monthly = df2.resample('M', on='order_approved_at').size()\n"
          ]
        },
        {
          "data": {
            "image/png": "[encoded data removed]",
            "text/plain": [
              "<Figure size 1000x600 with 1 Axes>"
            ]
          },
          "metadata": {},
          "output_type": "display_data"
        }
      ],
      "source": [
        "df_merge['order_approved_at'] = pd.to_datetime(df_merge['order_approved_at'])\n",
        "\n",
        "df2 = df_merge[df_merge['order_approved_at'].dt.year == 2017]\n",
        "df2_monthly = df2.resample('M', on='order_approved_at').size()\n",
        "\n",
        "# Plot the data as a line chart\n",
        "plt.figure(figsize=(10, 6))\n",
        "plt.plot(df2_monthly.index, df2_monthly.values, marker='o', linestyle='-', color='b')\n",
        "plt.title(\"Tren Aktivitas Membeli Barang pada tahun 2017\")\n",
        "plt.xlabel(\"Tanggal\")\n",
        "plt.ylabel(\"Number of Orders\")\n",
        "plt.grid(True)\n",
        "plt.xticks(rotation=45)\n",
        "plt.tight_layout()\n",
        "plt.show()"
      ]
    },
    {
      "cell_type": "markdown",
      "metadata": {
        "id": "FL8UxIP4glLY"
      },
      "source": [
        "## Kesimpulan"
      ]
    },
    {
      "cell_type": "markdown",
      "metadata": {
        "id": "tCavMTG0gwmY"
      },
      "source": [
        "1. Pada tahun 2018, kota dengan total pembelian terbesar ada di kota Sao Paolo (SP). Kemudian, kota dengan total pembelian terkecil ada di kota Acre (AC) yang jumlahnya berdekatan dengan kota Roraima (RR)\n",
        "\n",
        "2. Dari bulan ke bulan, platform Olist menunjukkan tren peningkatan dalam halnya jumlah aktivitas pembelian barang pada tahun 2017. Menjelang tahun 2018, aktivitas pembelian sempat mencapai puncaknya."
      ]
    }
  ],
  "metadata": {
    "colab": {
      "provenance": []
    },
    "kernelspec": {
      "display_name": "Python 3.12.4 ('base')",
      "language": "python",
      "name": "python3"
    },
    "language_info": {
      "codemirror_mode": {
        "name": "ipython",
        "version": 3
      },
      "file_extension": ".py",
      "mimetype": "text/x-python",
      "name": "python",
      "nbconvert_exporter": "python",
      "pygments_lexer": "ipython3",
      "version": "3.12.4"
    },
    "vscode": {
      "interpreter": {
        "hash": "3c06e3e46abf38078fe4dac36a0085ec2b134ebbd73dd076183d243eeca6918f"
      }
    }
  },
  "nbformat": 4,
  "nbformat_minor": 0
}
